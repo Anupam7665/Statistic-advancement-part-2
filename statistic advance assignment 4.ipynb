{
 "cells": [
  {
   "cell_type": "markdown",
   "id": "4e14b69e-73af-442a-9939-7d8ab65fe018",
   "metadata": {},
   "source": [
    "### Q1: What is the difference between a t-test and a z-test? Provide an example scenario where you would use each type of test."
   ]
  },
  {
   "cell_type": "markdown",
   "id": "8c65e89f-47a9-4270-a210-38d17e75b7e6",
   "metadata": {},
   "source": [
    "## T-test ##\n",
    "\n",
    "**Use case:**: The t-test is typically used when you have a small sample size (usually less than 30) and the population standard deviation is unknown.\n",
    "\n",
    "**Example**: \n",
    "Let's say you want to compare the average heights of two groups of students, A and B. You take a random sample of 20 students from each group and measure their heights. Since you have a small sample size and don't know the population standard deviation of heights, you would use a t-test to determine if there's a significant difference between the average heights of groups A and B.\n",
    "\n",
    "## Z-Test ##\n",
    "\n",
    "**Use Case:** The z-test is used when you have a large sample size (typically 30 or more) and/or when the population standard deviation is known.\n",
    "\n",
    "**Example:**\n",
    "Imagine you are conducting a study on the average weight of all adults in a city. You collect data from a large sample of 200 individuals, and you know the population standard deviation of weights from previous research. In this case, because you have a large sample size and know the population standard deviation, you could use a z-test to determine if the average weight of your sample is significantly different from the known population average."
   ]
  },
  {
   "cell_type": "markdown",
   "id": "5558f96d-5a94-43a1-9179-57ab48a41fc4",
   "metadata": {},
   "source": [
    "## Q2: Differentiate between one-tailed and two-tailed tests."
   ]
  },
  {
   "cell_type": "markdown",
   "id": "193f5aef-d3f0-4668-87ab-b15a8c127a38",
   "metadata": {},
   "source": [
    "## One-Tailed Test ##\n",
    "\n",
    "In a one-tailed test, you are only interested in one direction of difference or effect. You are testing whether a parameter is significantly greater than or less than a certain value, but not both.\n",
    "\n",
    "**Example**: \n",
    "\n",
    "We  are testing a new drug's effectiveness and you expect it to improve outcomes. A one-tailed test would assess whether the drug performs significantly better than the current standard treatment.\n",
    "\n",
    "\n",
    "## Two-Tailed Test ##\n",
    "\n",
    "In a two-tailed test, you are interested in differences or effects in both directions. You want to know if a parameter is significantly different from a certain value, whether greater or less than.\n",
    "\n",
    "**Example:** \n",
    "\n",
    "We take a same example of drug effectiveness, a two-tailed test would assess whether the new drug performs significantly differently from the standard treatment, without assuming it will be better or worse. It's an open-minded approach, considering differences in both directions."
   ]
  },
  {
   "cell_type": "markdown",
   "id": "6f88f0c0-d676-4c31-b1c7-1818f70b4b46",
   "metadata": {},
   "source": [
    "### Q3: Explain the concept of Type 1 and Type 2 errors in hypothesis testing. Provide an example scenario for each type of error."
   ]
  },
  {
   "cell_type": "markdown",
   "id": "d72967c9-0ea9-41af-9261-4cc9a3581559",
   "metadata": {},
   "source": [
    "**Type1 error** : A Type 1 error is when you reject the null hypothesis when it is actually true. This means you are making a false positive conclusion.\n",
    "\n",
    "**For example**, suppose you are testing whether a new drug can lower blood pressure. The null hypothesis is that the drug has no effect on blood pressure, and the alternative hypothesis is that the drug lowers blood pressure. If you use a statistical test and find a significant difference between the blood pressure of the people who took the drug and the people who did not, you would reject the null hypothesis and conclude that the drug works. However, if the difference was actually due to chance or some other factor, and the drug really has no effect, then you have made a Type 1 error.\n",
    "\n",
    "\n",
    "**Type2 error** : A Type 2 error is when you fail to reject the null hypothesis when it is actually false. This means you are making a false negative conclusion. \n",
    "\n",
    "**For example**, suppose you are testing whether a coin is fair or biased. The null hypothesis is that the coin is fair, and the alternative hypothesis is that the coin is biased. If you toss the coin 100 times and get 50 heads and 50 tails, you would fail to reject the null hypothesis and conclude that the coin is fair. However, if the coin was actually biased and had a 60% chance of landing on heads, then you have made a Type 2 error."
   ]
  },
  {
   "cell_type": "markdown",
   "id": "4aa64abe-ad50-4bf2-8339-fac2ec20bf64",
   "metadata": {},
   "source": [
    "## Q4: Explain Bayes's theorem with an example."
   ]
  },
  {
   "cell_type": "markdown",
   "id": "29dc50b4-49c5-4343-bf89-ccfe2a4c40e9",
   "metadata": {},
   "source": [
    "Bayes's Theorem is a mathematical formula that helps us update our beliefs or probabilities based on new evidence. It's particularly useful in situations where we want to know the probability of a hypothesis given some observed evidence."
   ]
  },
  {
   "cell_type": "code",
   "execution_count": 69,
   "id": "dfe65ec8-96e6-472c-81e9-aff7a2fd66c4",
   "metadata": {},
   "outputs": [],
   "source": [
    "def bayes_theorem(p_disease, p_positive_given_disease, p_positive_given_no_disease):\n",
    "   \n",
    "    p_positive = (p_positive_given_disease * p_disease) + (p_positive_given_no_disease * (1 - p_disease))\n",
    "    \n",
    "    \n",
    "    p_disease_given_positive = (p_positive_given_disease * p_disease) / p_positive\n",
    "    \n",
    "    return p_disease_given_positive"
   ]
  },
  {
   "cell_type": "code",
   "execution_count": 70,
   "id": "98296c20-7913-4123-af37-9b9e28358848",
   "metadata": {},
   "outputs": [
    {
     "ename": "SyntaxError",
     "evalue": "invalid syntax (2462212245.py, line 1)",
     "output_type": "error",
     "traceback": [
      "\u001b[0;36m  Cell \u001b[0;32mIn[70], line 1\u001b[0;36m\u001b[0m\n\u001b[0;31m    p_disease =\u001b[0m\n\u001b[0m                ^\u001b[0m\n\u001b[0;31mSyntaxError\u001b[0m\u001b[0;31m:\u001b[0m invalid syntax\n"
     ]
    }
   ],
   "source": [
    "p_disease = \n",
    "p_positive_given_disease = 0.95  \n",
    "p_positive_given_no_disease = 0.05 "
   ]
  },
  {
   "cell_type": "code",
   "execution_count": 22,
   "id": "e99ea41b-cb0d-42c6-bf5b-66cebb6123e6",
   "metadata": {},
   "outputs": [
    {
     "name": "stdout",
     "output_type": "stream",
     "text": [
      "The probability of having the disease given a positive test is: 16.10%\n"
     ]
    }
   ],
   "source": [
    "result = bayes_theorem(p_disease, p_positive_given_disease, p_positive_given_no_disease)\n",
    "print(f\"The probability of having the disease given a positive test is: {result:.2%}\")"
   ]
  },
  {
   "cell_type": "markdown",
   "id": "f76b39af-be75-47a1-8386-e1d456f12af1",
   "metadata": {},
   "source": [
    "## Q5. What is a confidence interval? How to calculate the confidence interval, explain with an example."
   ]
  },
  {
   "cell_type": "markdown",
   "id": "89da22a1-5669-4b8a-a8c1-e0f3d5942875",
   "metadata": {},
   "source": [
    "We construct a confidence interval to help estimate tha value of an unknown population mean is\n",
    "  \n",
    "The formula for calculating a confidence interval depends on the type of parameter being estimated (e.g., mean, proportion) and the distribution of the data. For a simple example, let's consider calculating a confidence interval for the mean of a population with a known standard deviation. The formula for a 95% confidence interval is:\n",
    "\n",
    "## Confidence Interval = x  +/-  t*(s/√n)\n",
    "\n",
    "where:\n",
    "\n",
    "x: sample mean\n",
    "\n",
    "t: t-value that corresponds to the confidence level\n",
    "\n",
    "s: sample standard deviation\n",
    "\n",
    "n: sample size"
   ]
  },
  {
   "cell_type": "code",
   "execution_count": 13,
   "id": "69c49030-5a3e-42be-8d33-1129d40bc199",
   "metadata": {},
   "outputs": [],
   "source": [
    "import scipy.stats as stats"
   ]
  },
  {
   "cell_type": "code",
   "execution_count": 63,
   "id": "c0ef30f9-7fab-40bf-bbf6-6e3e7659b63f",
   "metadata": {},
   "outputs": [],
   "source": [
    "point_estimate = 175 \n",
    "standard_error = 1 \n",
    "confidence_level = 0.95 "
   ]
  },
  {
   "cell_type": "code",
   "execution_count": 64,
   "id": "0fecfe7e-5da6-4df5-9768-94eb637bedad",
   "metadata": {},
   "outputs": [],
   "source": [
    "critical_value = stats.norm.ppf((1 + confidence_level) / 2)\n",
    "\n",
    "margin_of_error = critical_value * standard_error"
   ]
  },
  {
   "cell_type": "code",
   "execution_count": 65,
   "id": "ba071cc9-22a1-49da-8099-6826fcefb121",
   "metadata": {},
   "outputs": [],
   "source": [
    "lower_bound = point_estimate - margin_of_error\n",
    "upper_bound = point_estimate + margin_of_error"
   ]
  },
  {
   "cell_type": "code",
   "execution_count": 66,
   "id": "29043d5a-216b-4189-8bcd-cccbef3d55ac",
   "metadata": {},
   "outputs": [
    {
     "name": "stdout",
     "output_type": "stream",
     "text": [
      "The 95.0% confidence interval for the population mean is (173.04, 176.96)\n"
     ]
    }
   ],
   "source": [
    "\n",
    "print(f\"The {confidence_level * 100}% confidence interval for the population mean is ({lower_bound:.2f}, {upper_bound:.2f})\")"
   ]
  },
  {
   "cell_type": "markdown",
   "id": "7d295e84-7934-416b-bfc4-c906cd621fa7",
   "metadata": {},
   "source": [
    "### Q6. Use Bayes' Theorem to calculate the probability of an event occurring given prior knowledge of the event's probability and new evidence. Provide a sample problem and solution."
   ]
  },
  {
   "cell_type": "code",
   "execution_count": 59,
   "id": "16893c24-af01-4b6c-a5a1-cc1149970d27",
   "metadata": {},
   "outputs": [],
   "source": [
    "def bayes_theorem(p_disease, p_positive_given_disease, p_positive_given_no_disease):\n",
    "    p_positive = (p_positive_given_disease * p_disease) + (p_positive_given_no_disease * (1 - p_disease))\n",
    "    \n",
    "    p_disease_given_positive = (p_positive_given_disease * p_disease) / p_positive\n",
    "    return p_disease_given_positive"
   ]
  },
  {
   "cell_type": "code",
   "execution_count": 60,
   "id": "fd6248f7-6e66-4b2a-9470-a548ca9baaa9",
   "metadata": {},
   "outputs": [],
   "source": [
    "p_disease = 0.01 \n",
    "p_positive_given_disease = 0.95  \n",
    "p_positive_given_no_disease = 0.05  \n",
    "\n",
    "\n",
    "result = bayes_theorem(p_disease, p_positive_given_disease, p_positive_given_no_disease)"
   ]
  },
  {
   "cell_type": "code",
   "execution_count": 61,
   "id": "a822b57b-ecad-450d-b90b-6141aea6c99f",
   "metadata": {},
   "outputs": [
    {
     "name": "stdout",
     "output_type": "stream",
     "text": [
      "The probability of having the disease given a positive test is: 16.10%\n"
     ]
    }
   ],
   "source": [
    "print(f\"The probability of having the disease given a positive test is: {result:.2%}\")"
   ]
  },
  {
   "cell_type": "markdown",
   "id": "bf346b00-cbe3-49af-bcab-4fc650cefcc6",
   "metadata": {},
   "source": [
    "### Q7. Calculate the 95% confidence interval for a sample of data with a mean of 50 and a standard deviation of 5. Interpret the results."
   ]
  },
  {
   "cell_type": "code",
   "execution_count": 52,
   "id": "d46e79d7-744c-4535-b6c6-eacf56248073",
   "metadata": {},
   "outputs": [],
   "source": [
    "import math"
   ]
  },
  {
   "cell_type": "code",
   "execution_count": 56,
   "id": "336c7f88-0691-4c5c-9d3f-3c7acb2b1e32",
   "metadata": {},
   "outputs": [],
   "source": [
    "sample_mean = 50\n",
    "standard_deviation = 5\n",
    "confidence_level = 0.95\n",
    "sample_size = 100"
   ]
  },
  {
   "cell_type": "code",
   "execution_count": 57,
   "id": "9046a98a-b03f-4aac-915d-772e33200d38",
   "metadata": {},
   "outputs": [],
   "source": [
    "z_score = 1.96\n",
    "\n",
    "\n",
    "margin_of_error = z_score * (standard_deviation / math.sqrt(sample_size))\n",
    "\n",
    "\n",
    "lower_limit = sample_mean - margin_of_error\n",
    "upper_limit = sample_mean + margin_of_error"
   ]
  },
  {
   "cell_type": "code",
   "execution_count": 58,
   "id": "4a9f6f31-9c89-4c7a-af09-bf6c63767173",
   "metadata": {},
   "outputs": [
    {
     "name": "stdout",
     "output_type": "stream",
     "text": [
      "95% Confidence Interval: (49.02, 50.98)\n"
     ]
    }
   ],
   "source": [
    "print(f\"95% Confidence Interval: ({lower_limit:.2f}, {upper_limit:.2f})\")"
   ]
  },
  {
   "cell_type": "markdown",
   "id": "48cff9ad-8537-405a-ab33-8c38c737178c",
   "metadata": {},
   "source": [
    "## Q8. What is the margin of error in a confidence interval? How does sample size affect the margin of error?\n",
    "## Provide an example of a scenario where a larger sample size would result in a smaller margin of error."
   ]
  },
  {
   "cell_type": "markdown",
   "id": "80670d3e-cb66-4e2e-9e00-090b0b9999f8",
   "metadata": {},
   "source": [
    "The margin of error in a confidence interval is a measure of how much the sample statistic may differ from the true population parameter.It gives us a range of values within which we are reasonably confident the true population value lies.\n",
    "\n",
    "**how sample size affects the margin of error**\n",
    "\n",
    "If you have a small group of people in your sample, **the margin of error tends to be larger.** if you have a larger group in your sample, **the margin of error becomes smaller**.\n",
    "\n",
    "**for Example**\n",
    "\n",
    "We are taking taking a survey in a school. If you ask only a few students about their favorite subject, the answers might not perfectly represent the preferences of the entire student body. But if you survey a lot of students, your results are likely to be closer to what all students actually think."
   ]
  },
  {
   "cell_type": "markdown",
   "id": "04b658b5-c375-42fe-998a-ae3fd9a6579f",
   "metadata": {},
   "source": [
    "### Q9. Calculate the z-score for a data point with a value of 75, a population mean of 70, and a population standard deviation of 5. Interpret the results."
   ]
  },
  {
   "cell_type": "code",
   "execution_count": 7,
   "id": "8473a76d-d0ce-447c-ada2-0a99be7c78ee",
   "metadata": {},
   "outputs": [],
   "source": [
    "def calculate_z_score(data_point, mean, std_dev):\n",
    "    z_score = (data_point - mean) / std_dev\n",
    "    return z_score\n",
    "\n",
    "\n",
    "data_point = 75\n",
    "population_mean = 70\n",
    "population_std_dev = 5\n",
    "\n",
    "\n",
    "z_score = calculate_z_score(data_point, population_mean, population_std_dev)"
   ]
  },
  {
   "cell_type": "code",
   "execution_count": 8,
   "id": "7f9dffdd-2e1c-427d-8f8b-2c79611537cb",
   "metadata": {},
   "outputs": [
    {
     "name": "stdout",
     "output_type": "stream",
     "text": [
      "The z-score for the data point 75 is: 1.0\n",
      "This data point is 1.0 standard deviations away from the mean.\n"
     ]
    }
   ],
   "source": [
    "# Interpretation\n",
    "print(f\"The z-score for the data point {data_point} is: {z_score}\")\n",
    "print(f\"This data point is {z_score} standard deviations away from the mean.\")"
   ]
  },
  {
   "cell_type": "markdown",
   "id": "1a26d9fd-0ea7-46e9-87c7-0974c2ca30d6",
   "metadata": {},
   "source": [
    "### Q10. In a study of the effectiveness of a new weight loss drug, a sample of 50 participants lost an average of 6 pounds with a standard deviation of 2.5 pounds. Conduct a hypothesis test to determine if the drug is significantly effective at a 95% confidence level using a t-test."
   ]
  },
  {
   "cell_type": "code",
   "execution_count": 2,
   "id": "d059dfc8-7f77-4063-92f4-a9e46b88c770",
   "metadata": {},
   "outputs": [],
   "source": [
    "import scipy.stats as stats"
   ]
  },
  {
   "cell_type": "code",
   "execution_count": 5,
   "id": "b379deae-8bb3-4831-b9f9-e590e67af368",
   "metadata": {},
   "outputs": [
    {
     "name": "stdout",
     "output_type": "stream",
     "text": [
      "The test statistic is 16.970562748477143\n",
      "The p-value is 0.0\n"
     ]
    }
   ],
   "source": [
    "sample_mean = 6\n",
    "sample_std = 2.5\n",
    "sample_size = 50\n",
    "pop_mean = 0\n",
    "\n",
    "# Calculate the test statistic\n",
    "t_stat = (sample_mean - pop_mean) / (sample_std / (sample_size ** 0.5))\n",
    "print(\"The test statistic is\", t_stat)\n",
    "\n",
    "\n",
    "p_value = 1 - stats.t.cdf(t_stat, df = sample_size - 1)\n",
    "print(\"The p-value is\", p_value)"
   ]
  },
  {
   "cell_type": "code",
   "execution_count": 6,
   "id": "afdbc3e1-c697-46b5-85e8-4f727dc85c2f",
   "metadata": {},
   "outputs": [
    {
     "name": "stdout",
     "output_type": "stream",
     "text": [
      "We reject the null hypothesis and conclude that the drug is significantly effective.\n"
     ]
    }
   ],
   "source": [
    "alpha = 0.05\n",
    "if p_value < alpha:\n",
    "    print(\"We reject the null hypothesis and conclude that the drug is significantly effective.\")\n",
    "else:\n",
    "    print(\"We fail to reject the null hypothesis and conclude that the drug is not significantly effective.\")"
   ]
  },
  {
   "cell_type": "markdown",
   "id": "26c2096b-f384-4842-bb55-ec801fc6dd13",
   "metadata": {},
   "source": [
    "### Q11. In a survey of 500 people, 65% reported being satisfied with their current job. Calculate the 95% confidence interval for the true proportion of people who are satisfied with their job."
   ]
  },
  {
   "cell_type": "code",
   "execution_count": 10,
   "id": "3fcc09ea-522c-4603-9015-f1f48bb7f911",
   "metadata": {},
   "outputs": [],
   "source": [
    "import scipy.stats as stats\n",
    "import math"
   ]
  },
  {
   "cell_type": "code",
   "execution_count": 14,
   "id": "96c94480-79ce-49ba-a672-a2d6d2477371",
   "metadata": {},
   "outputs": [],
   "source": [
    "sample_proportion = 0.65\n",
    "sample_size = 500\n",
    "confidence_level = 0.95"
   ]
  },
  {
   "cell_type": "code",
   "execution_count": 15,
   "id": "8611de73-5cd6-4e6d-8801-14b932fd2e23",
   "metadata": {},
   "outputs": [],
   "source": [
    "standard_error = math.sqrt((sample_proportion * (1 - sample_proportion)) / sample_size)\n",
    "\n",
    "z_score = stats.norm.ppf((1 + confidence_level) / 2)\n",
    "\n",
    "margin_of_error = z_score * standard_error"
   ]
  },
  {
   "cell_type": "code",
   "execution_count": 16,
   "id": "b2e86d66-9ed2-403b-bf51-3e1519058f6f",
   "metadata": {},
   "outputs": [],
   "source": [
    "confidence_interval_lower = sample_proportion - margin_of_error\n",
    "confidence_interval_upper = sample_proportion + margin_of_error"
   ]
  },
  {
   "cell_type": "markdown",
   "id": "d8a3fa0a-9d17-405d-9c68-0c1dfa4f1129",
   "metadata": {},
   "source": [
    "print(f\"95% Confidence Interval: ({confidence_interval_lower:.4f}, {confidence_interval_upper:.4f})\")"
   ]
  },
  {
   "cell_type": "markdown",
   "id": "437eb138-b47e-4649-8cb2-a018e1061f30",
   "metadata": {},
   "source": [
    "### Q12. A researcher is testing the effectiveness of two different teaching methods on student performance. Sample A has a mean score of 85 with a standard deviation of 6, while sample B has a mean score of 82 with a standard deviation of 5. Conduct a hypothesis test to determine if the two teaching methods have a significant difference in student performance using a t-test with a significance level of 0.01. "
   ]
  },
  {
   "cell_type": "code",
   "execution_count": 22,
   "id": "ee61274c-40da-44cb-be6e-21294162f2fb",
   "metadata": {},
   "outputs": [],
   "source": [
    "import scipy.stats as stats"
   ]
  },
  {
   "cell_type": "code",
   "execution_count": 46,
   "id": "e376ad1f-173b-4191-aa9d-90e602cc097e",
   "metadata": {},
   "outputs": [],
   "source": [
    "mean_A = 85\n",
    "std_dev_A = 6\n",
    "sample_size_A = 1000\n",
    "\n",
    "mean_B = 82\n",
    "std_dev_B = 5\n",
    "sample_size_B = 1000  "
   ]
  },
  {
   "cell_type": "code",
   "execution_count": 47,
   "id": "2dfdfedb-cbac-4883-8ac8-0c5a5a9780a8",
   "metadata": {},
   "outputs": [],
   "source": [
    "alpha = 0.05\n",
    "\n",
    "t_statistic, p_value = stats.ttest_ind_from_stats(mean_A, std_dev_A, sample_size_A, mean_B, std_dev_B, sample_size_B)\n",
    "\n",
    "df = sample_size_A + sample_size_B - 2"
   ]
  },
  {
   "cell_type": "code",
   "execution_count": 48,
   "id": "9f57bdd8-a780-4a15-86b3-22674bbb0a8b",
   "metadata": {},
   "outputs": [
    {
     "name": "stdout",
     "output_type": "stream",
     "text": [
      "T-Statistic: 12.14664495268374\n",
      "P-Value: 8.31032600054902e-33\n",
      "Degrees of Freedom: 1998\n"
     ]
    }
   ],
   "source": [
    "print(f'T-Statistic: {t_statistic}')\n",
    "print(f'P-Value: {p_value}')\n",
    "print(f'Degrees of Freedom: {df}')"
   ]
  },
  {
   "cell_type": "code",
   "execution_count": 49,
   "id": "d784244c-4e10-4102-bc37-c0a002841b62",
   "metadata": {},
   "outputs": [
    {
     "name": "stdout",
     "output_type": "stream",
     "text": [
      "Reject the null hypothesis. There is a significant difference in student performance between the two teaching methods.\n"
     ]
    }
   ],
   "source": [
    "if p_value < alpha:\n",
    "    print(f\"Reject the null hypothesis. There is a significant difference in student performance between the two teaching methods.\")\n",
    "else:\n",
    "    print(\"Fail to reject the null hypothesis. There is not enough evidence to conclude a significant difference.\")"
   ]
  },
  {
   "cell_type": "markdown",
   "id": "b949b7dd-84a0-4b31-b343-ccbb1179993e",
   "metadata": {},
   "source": [
    "### Q13. A population has a mean of 60 and a standard deviation of 8. A sample of 50 observations has a mean of 65. Calculate the 90% confidence interval for the true population mean."
   ]
  },
  {
   "cell_type": "code",
   "execution_count": 33,
   "id": "8ab0024e-ccb4-49ba-b810-de760043dadc",
   "metadata": {},
   "outputs": [],
   "source": [
    "import scipy.stats as stats"
   ]
  },
  {
   "cell_type": "code",
   "execution_count": 34,
   "id": "7db13985-b351-42ca-be74-bb82cabb363a",
   "metadata": {},
   "outputs": [],
   "source": [
    "population_mean = 60\n",
    "population_std_dev = 8\n",
    "sample_mean = 65\n",
    "sample_size = 50\n",
    "confidence_level = 0.90"
   ]
  },
  {
   "cell_type": "code",
   "execution_count": 35,
   "id": "c55f90de-0cee-4300-a611-07f4326ca46e",
   "metadata": {},
   "outputs": [],
   "source": [
    "z_score = stats.norm.ppf((1 + confidence_level) / 2)\n",
    "\n",
    "margin_of_error = z_score * (population_std_dev / (sample_size**0.5))\n",
    "\n",
    "confidence_interval_lower = sample_mean - margin_of_error\n",
    "confidence_interval_upper = sample_mean + margin_of_error"
   ]
  },
  {
   "cell_type": "code",
   "execution_count": 36,
   "id": "ebeeedad-161f-4320-9b69-9edd80f4d39a",
   "metadata": {},
   "outputs": [
    {
     "name": "stdout",
     "output_type": "stream",
     "text": [
      "90% Confidence Interval: (63.1391, 66.8609)\n"
     ]
    }
   ],
   "source": [
    "print(f\"90% Confidence Interval: ({confidence_interval_lower:.4f}, {confidence_interval_upper:.4f})\")"
   ]
  },
  {
   "cell_type": "markdown",
   "id": "8a8b7bba-2eca-42a2-a119-1a1f5506d3a1",
   "metadata": {},
   "source": [
    "### Q14. In a study of the effects of caffeine on reaction time, a sample of 30 participants had an average  reaction time of 0.25 seconds with a standard deviation of 0.05 seconds. Conduct a hypothesis test to determine if the caffeine has a significant effect on reaction time at a 90% confidence level using a t-test."
   ]
  },
  {
   "cell_type": "code",
   "execution_count": 39,
   "id": "87f67bc7-57bf-431a-b7cf-959e24eee5cc",
   "metadata": {},
   "outputs": [],
   "source": [
    "import scipy.stats as stats"
   ]
  },
  {
   "cell_type": "code",
   "execution_count": 42,
   "id": "4a7740f8-eb9f-423f-ba43-e0d567f8e4f3",
   "metadata": {},
   "outputs": [],
   "source": [
    "sample_mean = 0.25\n",
    "sample_std = 0.05\n",
    "sample_size = 30\n",
    "pop_mean = 0.3 # This is an example baseline value, it can be changed"
   ]
  },
  {
   "cell_type": "code",
   "execution_count": 43,
   "id": "d495711e-31d8-47cd-9e8e-52349377fe49",
   "metadata": {},
   "outputs": [
    {
     "name": "stdout",
     "output_type": "stream",
     "text": [
      "The test statistic is -5.47722557505166\n",
      "The p-value is 6.7391453468790274e-06\n"
     ]
    }
   ],
   "source": [
    "t_stat = (sample_mean - pop_mean) / (sample_std / (sample_size ** 0.5))\n",
    "print(\"The test statistic is\", t_stat)\n",
    "\n",
    "\n",
    "p_value = 2 * (1 - stats.t.cdf(abs(t_stat), df = sample_size - 1))\n",
    "print(\"The p-value is\", p_value)"
   ]
  },
  {
   "cell_type": "code",
   "execution_count": 50,
   "id": "997e6df4-6ff7-4e7e-ba90-162783900827",
   "metadata": {},
   "outputs": [
    {
     "name": "stdout",
     "output_type": "stream",
     "text": [
      "We reject the null hypothesis and conclude that the caffeine has a significant effect on reaction time.\n"
     ]
    }
   ],
   "source": [
    "alpha = 0.05\n",
    "if p_value < alpha:\n",
    "    print(\"We reject the null hypothesis and conclude that the caffeine has a significant effect on reaction time.\")\n",
    "else:\n",
    "    print(\"We fail to reject the null hypothesis and conclude that the caffeine has no significant effect on reaction time.\")"
   ]
  },
  {
   "cell_type": "code",
   "execution_count": null,
   "id": "9212f2e2-69c7-4bc2-9731-2413ca127ab9",
   "metadata": {},
   "outputs": [],
   "source": []
  }
 ],
 "metadata": {
  "kernelspec": {
   "display_name": "Python 3 (ipykernel)",
   "language": "python",
   "name": "python3"
  },
  "language_info": {
   "codemirror_mode": {
    "name": "ipython",
    "version": 3
   },
   "file_extension": ".py",
   "mimetype": "text/x-python",
   "name": "python",
   "nbconvert_exporter": "python",
   "pygments_lexer": "ipython3",
   "version": "3.10.8"
  }
 },
 "nbformat": 4,
 "nbformat_minor": 5
}
