{
 "cells": [
  {
   "cell_type": "markdown",
   "id": "98545b3e-c734-4008-a8c3-d292de992163",
   "metadata": {},
   "source": [
    "### Q1. Explain the assumptions required to use ANOVA and provide examples of violations that could impact the validity of the results."
   ]
  },
  {
   "cell_type": "markdown",
   "id": "b1fa0192-78f9-437c-82e3-19ec59fc4992",
   "metadata": {},
   "source": [
    "### Groups are Independent:\n",
    "\n",
    "1. **Easy Version**: People or things in one group don't affect those in another group.\n",
    "**Problem Example**: If your groups are somehow connected, like measuring the same people twice, it might mess up the results.\n",
    "\n",
    "### Equal Variances:\n",
    "\n",
    "2. **Easy Version**: The amounts of difference within each group should be about the same.\n",
    "Problem Example: If one group has a lot more variation than another, it could make your results unreliable.\n",
    "\n",
    "### Errors are Independent:\n",
    "\n",
    "3. **Easy Version**: Mistakes in one measurement don’t depend on mistakes in another.\n",
    "Problem Example: If the mistakes are somehow connected, like if they depend on each other, it could mess up the results.\n",
    "\n",
    "### Random Sampling:\n",
    "\n",
    "4. **Easy Version**: You picked your samples in a fair way, not because of something weird.\n",
    "**Problem Example**: If your samples were chosen in a strange or biased manner, your results might not represent what's really going on.\n"
   ]
  },
  {
   "cell_type": "markdown",
   "id": "ff5a0559-7d4b-453a-85e7-8608023434aa",
   "metadata": {},
   "source": [
    "### Q2. What are the three types of ANOVA, and in what situations would each be used?"
   ]
  },
  {
   "cell_type": "markdown",
   "id": "ef514b5e-1e47-496a-992d-edae8e4a3c99",
   "metadata": {},
   "source": [
    "1.**One Way Anova** : One factor with atleast two level.And these level are independent.\n",
    "For eg : we are comparing the heights of people from three different cities. One-Way ANOVA helps you figure out if there's a significant difference in height between these cities.\n",
    "\n",
    "2.**Two way Anova** : One factor with atleast 2 level. And level are dependent. \n",
    "For Eg :  Suppose you're studying how both diet and exercise affect weight loss. Two-Way ANOVA helps you see if diet, exercise, or their combination has a significant impact.\n",
    "\n",
    "3.**Factorial Anova**: Two or more factors(each of which with atleast two levels). And levels can be either dependent or independent.\n",
    "For eg: If you measure the blood pressure of the same group before and after a new medication, Repeated Measures ANOVA helps determine if the change is due to the medication or just random variation."
   ]
  },
  {
   "cell_type": "markdown",
   "id": "44418673-9396-47e3-91e3-bbca218ca114",
   "metadata": {},
   "source": [
    "### Q3. What is the partitioning of variance in ANOVA, and why is it important to understand this concept?"
   ]
  },
  {
   "cell_type": "markdown",
   "id": "dc14e1c2-4541-4c55-90dc-9194aa6a9eeb",
   "metadata": {},
   "source": [
    "The partitioning of variance in Analysis of Variance (ANOVA) is a statistical concept that helps us understand the sources of variability in a set of data. In simple terms, it breaks down the total variation observed in a dataset into different components or sources.\n",
    "\n",
    "**Total Variance (Total Sum of Squares, or SST):**\n",
    "This represents the overall variability in your data. It's like looking at the total differences between individual data points and the overall mean.\n",
    "\n",
    "\n",
    "**Between-Group Variance (Between-Group Sum of Squares, or SSB):**\n",
    "\n",
    "This part of the variance measures how much the means of different groups (or categories) deviate from the overall mean. It tells you if there are significant differences between the groups.\n",
    "\n",
    "\n",
    "**Within-Group Variance (Within-Group Sum of Squares, or SSW):**\n",
    "\n",
    "This part of the variance measures the variability within each group. It shows how much individual data points within a group deviate from their group mean.\n",
    "\n",
    "\n",
    "**why is this concept important?**\n",
    "\n",
    "ANOVA helps you determine if the differences between group means are statistically significant. If the between-group variance is much larger than the within-group variance, it suggests that there are significant differences between the groups.\n",
    "\n",
    "By partitioning the variance, ANOVA helps identify whether the variation in your data is mainly due to differences between groups or if it's more about variability within each group"
   ]
  },
  {
   "cell_type": "markdown",
   "id": "f63b9905-d9a3-4bd2-a8cc-3ec8b13e8588",
   "metadata": {},
   "source": [
    "### Q4. How would you calculate the total sum of squares (SST), explained sum of squares (SSE), and residual sum of squares (SSR) in a one-way ANOVA using Python?"
   ]
  },
  {
   "cell_type": "code",
   "execution_count": 2,
   "id": "19cae31b-fb2b-4c3a-9ab7-cb3502b2c2a0",
   "metadata": {},
   "outputs": [],
   "source": [
    "import numpy as np\n",
    "from scipy import stats"
   ]
  },
  {
   "cell_type": "code",
   "execution_count": 3,
   "id": "2efb44a4-829e-4e8f-988b-18ee90c2ade7",
   "metadata": {},
   "outputs": [],
   "source": [
    "group1 = np.array([4, 5, 6, 7, 8])\n",
    "group2 = np.array([9, 10, 11, 12, 13])\n",
    "group3 = np.array([14, 15, 16, 17, 18])\n",
    "\n",
    "# Combine the data into a single array\n",
    "all_data = np.concatenate([group1, group2, group3])"
   ]
  },
  {
   "cell_type": "code",
   "execution_count": 4,
   "id": "5ddb38ca-1423-485e-8e24-c202d053b2dd",
   "metadata": {},
   "outputs": [
    {
     "data": {
      "text/plain": [
       "array([ 4,  5,  6,  7,  8,  9, 10, 11, 12, 13, 14, 15, 16, 17, 18])"
      ]
     },
     "execution_count": 4,
     "metadata": {},
     "output_type": "execute_result"
    }
   ],
   "source": [
    "all_data"
   ]
  },
  {
   "cell_type": "code",
   "execution_count": 7,
   "id": "60b2e0da-ad82-466b-8f1d-2543bd43f749",
   "metadata": {},
   "outputs": [],
   "source": [
    "# Calculate the overall mean\n",
    "overall_mean = np.mean(all_data)\n",
    "\n",
    "# Calculate Total Sum of Squares (SST)\n",
    "sst = np.sum((all_data - overall_mean) ** 2)"
   ]
  },
  {
   "cell_type": "code",
   "execution_count": 20,
   "id": "cd18dea4-a7b7-461a-ab10-e5b0eeb0e645",
   "metadata": {},
   "outputs": [
    {
     "data": {
      "text/plain": [
       "11.0"
      ]
     },
     "execution_count": 20,
     "metadata": {},
     "output_type": "execute_result"
    }
   ],
   "source": [
    "overall_mean"
   ]
  },
  {
   "cell_type": "code",
   "execution_count": 21,
   "id": "399d90ed-414b-4fb0-82ff-e8ee7fb90320",
   "metadata": {},
   "outputs": [
    {
     "data": {
      "text/plain": [
       "280.0"
      ]
     },
     "execution_count": 21,
     "metadata": {},
     "output_type": "execute_result"
    }
   ],
   "source": [
    "sst"
   ]
  },
  {
   "cell_type": "code",
   "execution_count": 9,
   "id": "642fd8ad-dd05-478e-9867-942dfdc49498",
   "metadata": {},
   "outputs": [],
   "source": [
    "\n",
    "mean_group1 = np.mean(group1)\n",
    "mean_group2 = np.mean(group2)\n",
    "mean_group3 = np.mean(group3)\n",
    "\n",
    "# Calculate Explained Sum of Squares (SSE)\n",
    "sse = len(group1) * (mean_group1 - overall_mean)**2 + \\\n",
    "      len(group2) * (mean_group2 - overall_mean)**2 + \\\n",
    "      len(group3) * (mean_group3 - overall_mean)**2\n",
    "\n",
    "# Calculate Residual Sum of Squares (SSR)\n",
    "ssr = np.sum((group1 - mean_group1)**2) + \\\n",
    "      np.sum((group2 - mean_group2)**2) + \\\n",
    "      np.sum((group3 - mean_group3)**2)"
   ]
  },
  {
   "cell_type": "code",
   "execution_count": 22,
   "id": "4385c5fd-4da9-4e67-9591-c22727d4d2f5",
   "metadata": {},
   "outputs": [
    {
     "data": {
      "text/plain": [
       "250.0"
      ]
     },
     "execution_count": 22,
     "metadata": {},
     "output_type": "execute_result"
    }
   ],
   "source": [
    "sse"
   ]
  },
  {
   "cell_type": "code",
   "execution_count": 23,
   "id": "d4a533b9-2a49-42f9-8a2e-abcd05e54657",
   "metadata": {},
   "outputs": [
    {
     "data": {
      "text/plain": [
       "30.0"
      ]
     },
     "execution_count": 23,
     "metadata": {},
     "output_type": "execute_result"
    }
   ],
   "source": [
    "ssr"
   ]
  },
  {
   "cell_type": "code",
   "execution_count": 10,
   "id": "84e94fc4-fbae-4413-924d-8bc502f1e912",
   "metadata": {},
   "outputs": [],
   "source": [
    "#Mean_Squares\n",
    "df_between = 3 - 1  # Number of groups minus 1\n",
    "df_within = len(all_data) - 3  # Total number of observations minus the number of groups"
   ]
  },
  {
   "cell_type": "code",
   "execution_count": 24,
   "id": "3c9edd2f-9871-41de-b0e8-e514b175a644",
   "metadata": {},
   "outputs": [
    {
     "data": {
      "text/plain": [
       "2"
      ]
     },
     "execution_count": 24,
     "metadata": {},
     "output_type": "execute_result"
    }
   ],
   "source": [
    "df_between"
   ]
  },
  {
   "cell_type": "code",
   "execution_count": 25,
   "id": "3fd14ce8-bad0-4ae9-9974-a3f7aa05fa77",
   "metadata": {},
   "outputs": [
    {
     "data": {
      "text/plain": [
       "12"
      ]
     },
     "execution_count": 25,
     "metadata": {},
     "output_type": "execute_result"
    }
   ],
   "source": [
    "df_within"
   ]
  },
  {
   "cell_type": "code",
   "execution_count": 14,
   "id": "8316d775-eb7c-4086-b054-1625c2cafec1",
   "metadata": {},
   "outputs": [],
   "source": [
    "#Mean_Squares\n",
    "ms_between = sse / df_between\n",
    "ms_within = ssr / df_within\n",
    "\n",
    "\n",
    "f_statistic = ms_between / ms_within\n",
    "\n",
    "\n",
    "p_value = 1 - stats.f.cdf(f_statistic, df_between, df_within)"
   ]
  },
  {
   "cell_type": "code",
   "execution_count": 26,
   "id": "d476b6d4-726a-4d53-9bce-95a6b87297f9",
   "metadata": {},
   "outputs": [
    {
     "data": {
      "text/plain": [
       "125.0"
      ]
     },
     "execution_count": 26,
     "metadata": {},
     "output_type": "execute_result"
    }
   ],
   "source": [
    "ms_between"
   ]
  },
  {
   "cell_type": "code",
   "execution_count": 27,
   "id": "0459864c-9e50-4699-adc9-260bfc5ad0d0",
   "metadata": {},
   "outputs": [
    {
     "data": {
      "text/plain": [
       "2.5"
      ]
     },
     "execution_count": 27,
     "metadata": {},
     "output_type": "execute_result"
    }
   ],
   "source": [
    "ms_within"
   ]
  },
  {
   "cell_type": "code",
   "execution_count": 15,
   "id": "8ddfa0e0-3a9d-490a-ba88-b142e33fa031",
   "metadata": {},
   "outputs": [
    {
     "name": "stdout",
     "output_type": "stream",
     "text": [
      "Total Sum of Squares (SST): 280.0\n",
      "Explained Sum of Squares (SSE): 250.0\n",
      "Residual Sum of Squares (SSR): 30.0\n",
      "F-statistic: 50.0\n",
      "p-value: 1.5127924217761546e-06\n"
     ]
    }
   ],
   "source": [
    "# Print results\n",
    "print(\"Total Sum of Squares (SST):\", sst)\n",
    "print(\"Explained Sum of Squares (SSE):\", sse)\n",
    "print(\"Residual Sum of Squares (SSR):\", ssr)\n",
    "print(\"F-statistic:\", f_statistic)\n",
    "print(\"p-value:\", p_value)"
   ]
  },
  {
   "cell_type": "markdown",
   "id": "67e56117-a202-46a4-bb71-cd68e84281c5",
   "metadata": {},
   "source": [
    "### Q5. In a two-way ANOVA, how would you calculate the main effects and interaction effects using Python?"
   ]
  },
  {
   "cell_type": "code",
   "execution_count": 29,
   "id": "f8b8de3b-7733-4e6a-8663-021d549d425b",
   "metadata": {},
   "outputs": [],
   "source": [
    "import pandas as pd\n",
    "import statsmodels.api as sm\n",
    "from statsmodels.formula.api import ols"
   ]
  },
  {
   "cell_type": "code",
   "execution_count": 30,
   "id": "42e29e89-2a44-4ac5-a140-505e2907770e",
   "metadata": {},
   "outputs": [],
   "source": [
    "# Example data\n",
    "data = {'A': [10, 20, 30, 40, 50, 60],\n",
    "        'B': [5, 15, 10, 25, 20, 30],\n",
    "        'Y': [25, 40, 55, 70, 85, 100]}\n",
    "\n",
    "df = pd.DataFrame(data)"
   ]
  },
  {
   "cell_type": "code",
   "execution_count": 34,
   "id": "a8a8dc55-f013-4abe-baae-c0785607e2a8",
   "metadata": {},
   "outputs": [
    {
     "data": {
      "text/html": [
       "<div>\n",
       "<style scoped>\n",
       "    .dataframe tbody tr th:only-of-type {\n",
       "        vertical-align: middle;\n",
       "    }\n",
       "\n",
       "    .dataframe tbody tr th {\n",
       "        vertical-align: top;\n",
       "    }\n",
       "\n",
       "    .dataframe thead th {\n",
       "        text-align: right;\n",
       "    }\n",
       "</style>\n",
       "<table border=\"1\" class=\"dataframe\">\n",
       "  <thead>\n",
       "    <tr style=\"text-align: right;\">\n",
       "      <th></th>\n",
       "      <th>A</th>\n",
       "      <th>B</th>\n",
       "      <th>Y</th>\n",
       "    </tr>\n",
       "  </thead>\n",
       "  <tbody>\n",
       "    <tr>\n",
       "      <th>0</th>\n",
       "      <td>10</td>\n",
       "      <td>5</td>\n",
       "      <td>25</td>\n",
       "    </tr>\n",
       "    <tr>\n",
       "      <th>1</th>\n",
       "      <td>20</td>\n",
       "      <td>15</td>\n",
       "      <td>40</td>\n",
       "    </tr>\n",
       "    <tr>\n",
       "      <th>2</th>\n",
       "      <td>30</td>\n",
       "      <td>10</td>\n",
       "      <td>55</td>\n",
       "    </tr>\n",
       "    <tr>\n",
       "      <th>3</th>\n",
       "      <td>40</td>\n",
       "      <td>25</td>\n",
       "      <td>70</td>\n",
       "    </tr>\n",
       "    <tr>\n",
       "      <th>4</th>\n",
       "      <td>50</td>\n",
       "      <td>20</td>\n",
       "      <td>85</td>\n",
       "    </tr>\n",
       "    <tr>\n",
       "      <th>5</th>\n",
       "      <td>60</td>\n",
       "      <td>30</td>\n",
       "      <td>100</td>\n",
       "    </tr>\n",
       "  </tbody>\n",
       "</table>\n",
       "</div>"
      ],
      "text/plain": [
       "    A   B    Y\n",
       "0  10   5   25\n",
       "1  20  15   40\n",
       "2  30  10   55\n",
       "3  40  25   70\n",
       "4  50  20   85\n",
       "5  60  30  100"
      ]
     },
     "execution_count": 34,
     "metadata": {},
     "output_type": "execute_result"
    }
   ],
   "source": [
    "df"
   ]
  },
  {
   "cell_type": "code",
   "execution_count": 31,
   "id": "3b8750ee-6d8a-4859-a055-957dd5357c51",
   "metadata": {},
   "outputs": [],
   "source": [
    "# Fit a two-way ANOVA model\n",
    "model = ols('Y ~ A * B', data=df).fit()\n",
    "anova_table = sm.stats.anova_lm(model, typ=2)"
   ]
  },
  {
   "cell_type": "code",
   "execution_count": 36,
   "id": "5e862fd7-92ee-4cd9-85e1-01ecdbb9d038",
   "metadata": {},
   "outputs": [
    {
     "data": {
      "text/html": [
       "<div>\n",
       "<style scoped>\n",
       "    .dataframe tbody tr th:only-of-type {\n",
       "        vertical-align: middle;\n",
       "    }\n",
       "\n",
       "    .dataframe tbody tr th {\n",
       "        vertical-align: top;\n",
       "    }\n",
       "\n",
       "    .dataframe thead th {\n",
       "        text-align: right;\n",
       "    }\n",
       "</style>\n",
       "<table border=\"1\" class=\"dataframe\">\n",
       "  <thead>\n",
       "    <tr style=\"text-align: right;\">\n",
       "      <th></th>\n",
       "      <th>sum_sq</th>\n",
       "      <th>df</th>\n",
       "      <th>F</th>\n",
       "      <th>PR(&gt;F)</th>\n",
       "    </tr>\n",
       "  </thead>\n",
       "  <tbody>\n",
       "    <tr>\n",
       "      <th>A</th>\n",
       "      <td>8.485714e+02</td>\n",
       "      <td>1.0</td>\n",
       "      <td>1.635586e+28</td>\n",
       "      <td>6.114017e-29</td>\n",
       "    </tr>\n",
       "    <tr>\n",
       "      <th>B</th>\n",
       "      <td>4.557869e-27</td>\n",
       "      <td>1.0</td>\n",
       "      <td>8.785101e-02</td>\n",
       "      <td>7.948726e-01</td>\n",
       "    </tr>\n",
       "    <tr>\n",
       "      <th>A:B</th>\n",
       "      <td>9.515699e-28</td>\n",
       "      <td>1.0</td>\n",
       "      <td>1.834111e-02</td>\n",
       "      <td>9.046731e-01</td>\n",
       "    </tr>\n",
       "    <tr>\n",
       "      <th>Residual</th>\n",
       "      <td>1.037636e-25</td>\n",
       "      <td>2.0</td>\n",
       "      <td>NaN</td>\n",
       "      <td>NaN</td>\n",
       "    </tr>\n",
       "  </tbody>\n",
       "</table>\n",
       "</div>"
      ],
      "text/plain": [
       "                sum_sq   df             F        PR(>F)\n",
       "A         8.485714e+02  1.0  1.635586e+28  6.114017e-29\n",
       "B         4.557869e-27  1.0  8.785101e-02  7.948726e-01\n",
       "A:B       9.515699e-28  1.0  1.834111e-02  9.046731e-01\n",
       "Residual  1.037636e-25  2.0           NaN           NaN"
      ]
     },
     "execution_count": 36,
     "metadata": {},
     "output_type": "execute_result"
    }
   ],
   "source": [
    "anova_table"
   ]
  },
  {
   "cell_type": "code",
   "execution_count": 32,
   "id": "d380de8d-c569-487d-8610-c4d6c5d7bc63",
   "metadata": {},
   "outputs": [],
   "source": [
    "# Extract main effects and interaction effects\n",
    "main_effect_A = anova_table.loc['A', 'sum_sq'] / anova_table.loc['A', 'df']\n",
    "main_effect_B = anova_table.loc['B', 'sum_sq'] / anova_table.loc['B', 'df']\n",
    "interaction_effect = anova_table.loc['A:B', 'sum_sq'] / anova_table.loc['A:B', 'df']"
   ]
  },
  {
   "cell_type": "code",
   "execution_count": 33,
   "id": "d7511c5f-5eb6-4f35-88cc-fd091123c5b1",
   "metadata": {},
   "outputs": [
    {
     "name": "stdout",
     "output_type": "stream",
     "text": [
      "Main Effect A: 848.5714285714279\n",
      "Main Effect B: 4.557868938585036e-27\n",
      "Interaction Effect: 9.5156988668933e-28\n"
     ]
    }
   ],
   "source": [
    "# Print results\n",
    "print(\"Main Effect A:\", main_effect_A)\n",
    "print(\"Main Effect B:\", main_effect_B)\n",
    "print(\"Interaction Effect:\", interaction_effect)"
   ]
  },
  {
   "cell_type": "markdown",
   "id": "a560d180-9ca3-4f70-aaa7-52a6ce9ff74e",
   "metadata": {},
   "source": [
    "### Q6. Suppose you conducted a one-way ANOVA and obtained an F-statistic of 5.23 and a p-value of 0.02. What can you conclude about the differences between the groups, and how would you interpret these results?"
   ]
  },
  {
   "cell_type": "markdown",
   "id": "3077007d-80e3-43f1-aa3b-f4b1a0b8edf8",
   "metadata": {},
   "source": [
    "**F-Statistic (5.23):**\n",
    "\n",
    "Think of the F-statistic like a signal that there might be differences between the groups. In this case, the signal is 5.23. The higher the signal, the more likely there are differences.\n",
    "\n",
    "**P-Value (0.02):**\n",
    "\n",
    "The p-value is like a measure of how strong the evidence is against the idea that there are no differences between the groups. A p-value of 0.02 means there's a 2% chance of seeing such strong evidence if there were actually no differences.\n",
    "\n",
    "\n",
    "**Interpretation:**\n",
    "\n",
    "Since the p-value is less than 0.05 (a common threshold), it suggests that the evidence against the idea of no differences is strong.\n",
    "\n",
    "\n",
    "**Conclusion:**\n",
    "\n",
    "In summary, based on the F-statistic and p-value, you would reject the null hypothesis and conclude that there are significant differences between the groups\n",
    "\n"
   ]
  },
  {
   "cell_type": "markdown",
   "id": "88c31e7d-9bf4-4f0c-b7ae-257d82bfd44b",
   "metadata": {},
   "source": [
    "### Q7. In a repeated measures ANOVA, how would you handle missing data, and what are the potential consequences of using different methods to handle missing data?"
   ]
  },
  {
   "cell_type": "markdown",
   "id": "5a5f8a14-1828-47df-aab9-7dcea2b58283",
   "metadata": {},
   "source": [
    "#### Potential Consequences:\n",
    "**Complete Case Analysis (CCA):**\n",
    "\n",
    "__Consequence__: You lose data, potentially leading to reduced statistical power. Results may be biased if missing data is not random.\n",
    "\n",
    "\n",
    "**Mean Imputation:**\n",
    "\n",
    "Consequence: Preserves sample size but may underestimate variability. Assumes missing values have the same mean as observed values.\n",
    "\n",
    "\n",
    "**Multiple Imputation (MI):**\n",
    "\n",
    "Consequence: Preserves variability and accounts for uncertainty. Requires a more complex analysis. Assumes missingness is at least missing at random (MAR).\n"
   ]
  },
  {
   "cell_type": "markdown",
   "id": "c622c662-0ba8-4b0a-999e-f1ed4354a9f6",
   "metadata": {},
   "source": [
    "### Q8. What are some common post-hoc tests used after ANOVA, and when would you use each one? Provide an example of a situation where a post-hoc test might be necessary."
   ]
  },
  {
   "cell_type": "markdown",
   "id": "e23821e9-2c6a-4762-9ba5-7a4299238126",
   "metadata": {},
   "source": [
    "**Tukey's Honestly Significant Difference (Tukey HSD):**\n",
    "\n",
    "Use When:\n",
    "You have three or more groups to compare.\n",
    "You want to be sure which specific groups are different.\n",
    "\n",
    "Example:\n",
    "Imagine testing three types of plant fertilizers to see which one grows taller plants. If ANOVA says there's a difference, Tukey HSD helps pinpoint which fertilizers are significantly different from each other.\n",
    "\n",
    "\n",
    "**Bonferroni Correction:**\n",
    "\n",
    "Use When:\n",
    "\n",
    "You're comparing multiple pairs, and you want to control for making mistakes (like saying there's a difference when there isn't).\n",
    "\n",
    "Example:\n",
    "\n",
    "Suppose you're testing different diets to see which one helps people lose weight. If ANOVA indicates a difference, Bonferroni correction helps you compare each pair of diets without increasing the risk of making a wrong conclusion.\n",
    "\n",
    "\n",
    "**Scheffé's Test:**\n",
    "\n",
    "Use When:\n",
    "\n",
    "The number of groups can vary, and you want a reliable test.\n",
    "You're okay with a bit more caution in declaring differences.\n",
    "\n",
    "Example:\n",
    "\n",
    "Let's say you're testing the effectiveness of various teaching methods (A, B, C, D) on student performance. If ANOVA suggests a difference, Scheffé's test helps identify which teaching methods are truly different.\n",
    "\n",
    "\n",
    "**Why Post-hoc Tests?**\n",
    "\n",
    "Imagine you have three different ice cream flavors, and you want to know if people like them equally. ANOVA tells you there's a difference in preferences, but it doesn't say which flavors are preferred. Post-hoc tests step in to say, \"Ah, people like chocolate more than vanilla, but strawberry is no different from vanilla.\"\n",
    "\n",
    "In simpler terms, post-hoc tests are like detectives helping us understand the details after we know there's a difference between groups. They tell us exactly where those differences lie."
   ]
  },
  {
   "cell_type": "markdown",
   "id": "c9ceaf2b-975f-4c70-872b-24bb3e708dd1",
   "metadata": {},
   "source": [
    "### Q9. A researcher wants to compare the mean weight loss of three diets: A, B, and C. They collect data from 50 participants who were randomly assigned to one of the diets. Conduct a one-way ANOVA using Python to determine if there are any significant differences between the mean weight loss of the three diets.\n",
    "### Report the F-statistic and p-value, and interpret the results."
   ]
  },
  {
   "cell_type": "code",
   "execution_count": 39,
   "id": "f7a51313-be9b-45f7-ab4a-468c90611b2a",
   "metadata": {},
   "outputs": [],
   "source": [
    "import numpy as np\n",
    "from scipy.stats import f_oneway"
   ]
  },
  {
   "cell_type": "code",
   "execution_count": 40,
   "id": "fd27fd70-112c-4b3a-b91d-c8f074770dc3",
   "metadata": {},
   "outputs": [],
   "source": [
    "# Generate random weight loss data for three diets\n",
    "np.random.seed(42)  # Setting seed for reproducibility\n",
    "weight_loss_A = np.random.normal(loc=5, scale=2, size=50)  # Mean = 5, Standard Deviation = 2\n",
    "weight_loss_B = np.random.normal(loc=6, scale=2, size=50)  # Mean = 6, Standard Deviation = 2\n",
    "weight_loss_C = np.random.normal(loc=4, scale=2, size=50)  # Mean = 4, Standard Deviation = 2"
   ]
  },
  {
   "cell_type": "code",
   "execution_count": 42,
   "id": "f2ebead6-4be8-49d5-ab4a-1245325c2016",
   "metadata": {},
   "outputs": [],
   "source": [
    "# Combine the data\n",
    "all_weight_loss = np.concatenate([weight_loss_A, weight_loss_B, weight_loss_C])\n",
    "\n",
    "# Create labels for each group\n",
    "labels = ['A'] * 50 + ['B'] * 50 + ['C'] * 50\n",
    "\n",
    "# Perform one-way ANOVA\n",
    "f_statistic, p_value = f_oneway(weight_loss_A, weight_loss_B, weight_loss_C)"
   ]
  },
  {
   "cell_type": "code",
   "execution_count": 46,
   "id": "02458e67-a8e4-453b-938b-37a295ab5a57",
   "metadata": {},
   "outputs": [
    {
     "data": {
      "text/plain": [
       "16.574213049400626"
      ]
     },
     "execution_count": 46,
     "metadata": {},
     "output_type": "execute_result"
    }
   ],
   "source": [
    "f_statistic"
   ]
  },
  {
   "cell_type": "code",
   "execution_count": 47,
   "id": "d5da80bf-12cc-44ed-b0aa-697c0d811550",
   "metadata": {},
   "outputs": [
    {
     "data": {
      "text/plain": [
       "3.2283781469409867e-07"
      ]
     },
     "execution_count": 47,
     "metadata": {},
     "output_type": "execute_result"
    }
   ],
   "source": [
    "p_value"
   ]
  },
  {
   "cell_type": "code",
   "execution_count": 44,
   "id": "0a8f871e-4a52-4947-bdff-a94f12884e6c",
   "metadata": {},
   "outputs": [
    {
     "data": {
      "text/plain": [
       "array([5.99342831, 4.7234714 , 6.29537708, 8.04605971, 4.53169325,\n",
       "       4.53172609, 8.15842563, 6.53486946, 4.06105123, 6.08512009,\n",
       "       4.07316461, 4.06854049, 5.48392454, 1.17343951, 1.55016433,\n",
       "       3.87542494, 2.97433776, 5.62849467, 3.18395185, 2.1753926 ,\n",
       "       7.93129754, 4.5484474 , 5.13505641, 2.15050363, 3.91123455,\n",
       "       5.22184518, 2.69801285, 5.75139604, 3.79872262, 4.4166125 ,\n",
       "       3.79658678, 8.70455637, 4.97300555, 2.88457814, 6.64508982,\n",
       "       2.5583127 , 5.41772719, 1.08065975, 2.3436279 , 5.39372247,\n",
       "       6.47693316, 5.34273656, 4.76870344, 4.39779261, 2.04295602,\n",
       "       3.56031158, 4.07872246, 7.11424445, 5.68723658, 1.47391969,\n",
       "       6.64816794, 5.22983544, 4.646156  , 7.22335258, 8.06199904,\n",
       "       7.86256024, 4.32156495, 5.38157525, 6.66252686, 7.95109025,\n",
       "       5.04165152, 5.62868205, 3.78733005, 3.60758675, 7.62505164,\n",
       "       8.71248006, 5.85597976, 8.0070658 , 6.72327205, 4.70976049,\n",
       "       6.72279121, 9.07607313, 5.92834792, 9.12928731, 0.76050979,\n",
       "       7.64380501, 6.17409414, 5.4019853 , 6.18352155, 2.02486217,\n",
       "       5.56065622, 6.71422514, 8.95578809, 4.96345956, 4.38301279,\n",
       "       4.99648591, 7.83080424, 6.65750222, 4.94047959, 7.02653487,\n",
       "       6.1941551 , 7.93728998, 4.59589381, 5.34467571, 5.21578369,\n",
       "       3.0729701 , 6.59224055, 6.52211054, 6.01022691, 5.53082573,\n",
       "       1.16925852, 3.15870935, 3.31457097, 2.39544546, 3.67742858,\n",
       "       4.80810171, 7.7723718 , 4.34915563, 4.51510078, 3.85110817,\n",
       "       0.16245757, 3.94697225, 4.12046042, 8.92648422, 3.61527807,\n",
       "       4.60309468, 3.93057646, 1.66264392, 6.28564563, 5.50386607,\n",
       "       5.58206389, 2.18122509, 6.80558862, 1.19629787, 5.17371419,\n",
       "       8.38091125, 2.01892735, 2.86740454, 4.19930273, 2.99304869,\n",
       "       0.89867314, 4.13712595, 1.87539257, 4.94718486, 2.16115153,\n",
       "       7.09986881, 2.43349342, 3.35587697, 5.62703443, 1.53827137,\n",
       "       4.45491987, 6.61428551, 0.78503353, 4.36926772, 4.51976559,\n",
       "       5.56364574, 1.52609858, 1.35908677, 5.04388313, 4.59396935])"
      ]
     },
     "execution_count": 44,
     "metadata": {},
     "output_type": "execute_result"
    }
   ],
   "source": [
    "all_weight_loss"
   ]
  },
  {
   "cell_type": "code",
   "execution_count": 48,
   "id": "be74d69d-6f39-4c37-920d-0ed16ec9e1de",
   "metadata": {},
   "outputs": [
    {
     "name": "stdout",
     "output_type": "stream",
     "text": [
      "One-Way ANOVA Results:\n",
      "F-Statistic: 16.574213049400626\n",
      "p-value: 3.2283781469409867e-07\n"
     ]
    }
   ],
   "source": [
    "# Print results\n",
    "print(\"One-Way ANOVA Results:\")\n",
    "print(\"F-Statistic:\", f_statistic)\n",
    "print(\"p-value:\", p_value)"
   ]
  },
  {
   "cell_type": "code",
   "execution_count": 49,
   "id": "79f8bb6e-1aca-45fc-a54b-92b2b62eec87",
   "metadata": {},
   "outputs": [
    {
     "name": "stdout",
     "output_type": "stream",
     "text": [
      "There is significant evidence to suggest that there are differences in the mean weight loss between at least two diets.\n"
     ]
    }
   ],
   "source": [
    "# Interpret the results\n",
    "if p_value < 0.05:\n",
    "    print(\"There is significant evidence to suggest that there are differences in the mean weight loss between at least two diets.\")\n",
    "else:\n",
    "    print(\"There is not enough evidence to conclude that there are differences in the mean weight loss between diets.\")"
   ]
  },
  {
   "cell_type": "markdown",
   "id": "f17baf4f-6129-4271-b085-5bf36b5308df",
   "metadata": {},
   "source": [
    "### Q10. A company wants to know if there are any significant differences in the average time it takes to complete a task using three different software programs: Program A, Program B, and Program C. They randomly assign 30 employees to one of the programs and record the time it takes each employee to complete the task. Conduct a two-way ANOVA using Python to determine if there are any main effects or interaction effects between the software programs and employee experience level (novice vs.experienced). Report the F-statistics and p-values, and interpret the results."
   ]
  },
  {
   "cell_type": "code",
   "execution_count": 51,
   "id": "a62abcce-73e3-4705-be3c-a3d9ea93705d",
   "metadata": {},
   "outputs": [],
   "source": [
    "import numpy as np\n",
    "import pandas as pd\n",
    "import statsmodels.api as sm\n",
    "from statsmodels.formula.api import ols"
   ]
  },
  {
   "cell_type": "code",
   "execution_count": 52,
   "id": "c7ae3b84-b5a3-4cd6-a128-2603eae147b8",
   "metadata": {},
   "outputs": [],
   "source": [
    "# Setting seed for reproducibility\n",
    "np.random.seed(42)\n",
    "\n",
    "# Generate random data\n",
    "n_per_group = 30\n",
    "experience_levels = ['Novice', 'Experienced']\n",
    "software_programs = ['Program A', 'Program B', 'Program C']\n",
    "\n",
    "# Creating a DataFrame with random data\n",
    "data = {\n",
    "    'Time': np.random.normal(loc=10, scale=2, size=n_per_group * len(software_programs) * len(experience_levels)),\n",
    "    'Program': np.repeat(np.tile(software_programs, n_per_group), len(experience_levels)),\n",
    "    'Experience': np.tile(np.repeat(experience_levels, len(software_programs)), n_per_group)\n",
    "}\n",
    "\n",
    "df = pd.DataFrame(data)"
   ]
  },
  {
   "cell_type": "code",
   "execution_count": 55,
   "id": "f52976d5-b585-42f0-8476-576dffb53093",
   "metadata": {},
   "outputs": [
    {
     "data": {
      "text/html": [
       "<div>\n",
       "<style scoped>\n",
       "    .dataframe tbody tr th:only-of-type {\n",
       "        vertical-align: middle;\n",
       "    }\n",
       "\n",
       "    .dataframe tbody tr th {\n",
       "        vertical-align: top;\n",
       "    }\n",
       "\n",
       "    .dataframe thead th {\n",
       "        text-align: right;\n",
       "    }\n",
       "</style>\n",
       "<table border=\"1\" class=\"dataframe\">\n",
       "  <thead>\n",
       "    <tr style=\"text-align: right;\">\n",
       "      <th></th>\n",
       "      <th>Time</th>\n",
       "      <th>Program</th>\n",
       "      <th>Experience</th>\n",
       "    </tr>\n",
       "  </thead>\n",
       "  <tbody>\n",
       "    <tr>\n",
       "      <th>0</th>\n",
       "      <td>10.993428</td>\n",
       "      <td>Program A</td>\n",
       "      <td>Novice</td>\n",
       "    </tr>\n",
       "    <tr>\n",
       "      <th>1</th>\n",
       "      <td>9.723471</td>\n",
       "      <td>Program A</td>\n",
       "      <td>Novice</td>\n",
       "    </tr>\n",
       "    <tr>\n",
       "      <th>2</th>\n",
       "      <td>11.295377</td>\n",
       "      <td>Program B</td>\n",
       "      <td>Novice</td>\n",
       "    </tr>\n",
       "    <tr>\n",
       "      <th>3</th>\n",
       "      <td>13.046060</td>\n",
       "      <td>Program B</td>\n",
       "      <td>Experienced</td>\n",
       "    </tr>\n",
       "    <tr>\n",
       "      <th>4</th>\n",
       "      <td>9.531693</td>\n",
       "      <td>Program C</td>\n",
       "      <td>Experienced</td>\n",
       "    </tr>\n",
       "    <tr>\n",
       "      <th>...</th>\n",
       "      <td>...</td>\n",
       "      <td>...</td>\n",
       "      <td>...</td>\n",
       "    </tr>\n",
       "    <tr>\n",
       "      <th>175</th>\n",
       "      <td>11.654366</td>\n",
       "      <td>Program A</td>\n",
       "      <td>Novice</td>\n",
       "    </tr>\n",
       "    <tr>\n",
       "      <th>176</th>\n",
       "      <td>10.026004</td>\n",
       "      <td>Program B</td>\n",
       "      <td>Novice</td>\n",
       "    </tr>\n",
       "    <tr>\n",
       "      <th>177</th>\n",
       "      <td>12.907068</td>\n",
       "      <td>Program B</td>\n",
       "      <td>Experienced</td>\n",
       "    </tr>\n",
       "    <tr>\n",
       "      <th>178</th>\n",
       "      <td>9.470686</td>\n",
       "      <td>Program C</td>\n",
       "      <td>Experienced</td>\n",
       "    </tr>\n",
       "    <tr>\n",
       "      <th>179</th>\n",
       "      <td>15.440338</td>\n",
       "      <td>Program C</td>\n",
       "      <td>Experienced</td>\n",
       "    </tr>\n",
       "  </tbody>\n",
       "</table>\n",
       "<p>180 rows × 3 columns</p>\n",
       "</div>"
      ],
      "text/plain": [
       "          Time    Program   Experience\n",
       "0    10.993428  Program A       Novice\n",
       "1     9.723471  Program A       Novice\n",
       "2    11.295377  Program B       Novice\n",
       "3    13.046060  Program B  Experienced\n",
       "4     9.531693  Program C  Experienced\n",
       "..         ...        ...          ...\n",
       "175  11.654366  Program A       Novice\n",
       "176  10.026004  Program B       Novice\n",
       "177  12.907068  Program B  Experienced\n",
       "178   9.470686  Program C  Experienced\n",
       "179  15.440338  Program C  Experienced\n",
       "\n",
       "[180 rows x 3 columns]"
      ]
     },
     "execution_count": 55,
     "metadata": {},
     "output_type": "execute_result"
    }
   ],
   "source": [
    "df"
   ]
  },
  {
   "cell_type": "code",
   "execution_count": 53,
   "id": "57338a83-eccb-4b92-a6a3-8ff074fc701d",
   "metadata": {},
   "outputs": [
    {
     "name": "stderr",
     "output_type": "stream",
     "text": [
      "/opt/conda/lib/python3.10/site-packages/statsmodels/base/model.py:1871: ValueWarning: covariance of constraints does not have full rank. The number of constraints is 2, but rank is 1\n",
      "  warnings.warn('covariance of constraints does not have full '\n",
      "/opt/conda/lib/python3.10/site-packages/statsmodels/base/model.py:1871: ValueWarning: covariance of constraints does not have full rank. The number of constraints is 1, but rank is 0\n",
      "  warnings.warn('covariance of constraints does not have full '\n",
      "/opt/conda/lib/python3.10/site-packages/statsmodels/base/model.py:1900: RuntimeWarning: invalid value encountered in divide\n",
      "  F /= J\n",
      "/opt/conda/lib/python3.10/site-packages/statsmodels/base/model.py:1871: ValueWarning: covariance of constraints does not have full rank. The number of constraints is 2, but rank is 1\n",
      "  warnings.warn('covariance of constraints does not have full '\n"
     ]
    }
   ],
   "source": [
    "# Perform two-way ANOVA\n",
    "formula = 'Time ~ Program + Experience + Program:Experience'\n",
    "model = ols(formula, data=df).fit()\n",
    "anova_table = sm.stats.anova_lm(model, typ=2)"
   ]
  },
  {
   "cell_type": "code",
   "execution_count": 54,
   "id": "ee4c8b29-52bb-4374-9b50-858dafdfd5f6",
   "metadata": {},
   "outputs": [
    {
     "name": "stdout",
     "output_type": "stream",
     "text": [
      "Two-Way ANOVA Results:\n",
      "                        sum_sq     df          F        PR(>F)\n",
      "Program               1.484605    2.0   0.210750  6.467466e-01\n",
      "Experience                 NaN    1.0        NaN           NaN\n",
      "Program:Experience  321.988587    2.0  45.708515  1.944404e-10\n",
      "Residual            619.906287  176.0        NaN           NaN\n"
     ]
    }
   ],
   "source": [
    "# Print results\n",
    "print(\"Two-Way ANOVA Results:\")\n",
    "print(anova_table)"
   ]
  },
  {
   "cell_type": "markdown",
   "id": "25da95a4-cbff-4007-bc47-144a930bfed2",
   "metadata": {},
   "source": [
    "### Q11. An educational researcher is interested in whether a new teaching method improves student test scores. They randomly assign 100 students to either the control group (traditional teaching method) or the experimental group (new teaching method) and administer a test at the end of the semester. Conduct a two-sample t-test using Python to determine if there are any significant differences in test scores between the two groups. If the results are significant, follow up with a post-hoc test to determine which group(s) differ significantly from each other."
   ]
  },
  {
   "cell_type": "code",
   "execution_count": 58,
   "id": "437a09bb-b801-4e66-91d2-4b8ecb130cde",
   "metadata": {},
   "outputs": [],
   "source": [
    "import numpy as np\n",
    "from scipy.stats import ttest_ind\n",
    "import statsmodels.stats.multicomp as mc"
   ]
  },
  {
   "cell_type": "code",
   "execution_count": 59,
   "id": "535b524b-aa5d-43d1-afe0-f8f8da25ad9a",
   "metadata": {},
   "outputs": [],
   "source": [
    "# Setting seed for reproducibility\n",
    "np.random.seed(42)\n",
    "\n",
    "# Generate random test scores for the control and experimental groups\n",
    "control_group = np.random.normal(loc=70, scale=10, size=100)\n",
    "experimental_group = np.random.normal(loc=75, scale=10, size=100)"
   ]
  },
  {
   "cell_type": "code",
   "execution_count": 62,
   "id": "01ad67e5-1afa-4a62-af43-75ac98f16cd9",
   "metadata": {},
   "outputs": [
    {
     "data": {
      "text/plain": [
       "array([74.96714153, 68.61735699, 76.47688538, 85.23029856, 67.65846625,\n",
       "       67.65863043, 85.79212816, 77.67434729, 65.30525614, 75.42560044,\n",
       "       65.36582307, 65.34270246, 72.41962272, 50.86719755, 52.75082167,\n",
       "       64.37712471, 59.8716888 , 73.14247333, 60.91975924, 55.87696299,\n",
       "       84.65648769, 67.742237  , 70.67528205, 55.75251814, 64.55617275,\n",
       "       71.1092259 , 58.49006423, 73.75698018, 63.9936131 , 67.0830625 ,\n",
       "       63.98293388, 88.52278185, 69.86502775, 59.42289071, 78.22544912,\n",
       "       57.7915635 , 72.08863595, 50.40329876, 56.71813951, 71.96861236,\n",
       "       77.3846658 , 71.71368281, 68.84351718, 66.98896304, 55.2147801 ,\n",
       "       62.80155792, 65.39361229, 80.57122226, 73.4361829 , 52.36959845,\n",
       "       73.24083969, 66.1491772 , 63.23078   , 76.11676289, 80.30999522,\n",
       "       79.31280119, 61.60782477, 66.90787624, 73.31263431, 79.75545127,\n",
       "       65.20825762, 68.14341023, 58.93665026, 58.03793376, 78.12525822,\n",
       "       83.56240029, 69.27989878, 80.03532898, 73.61636025, 63.54880245,\n",
       "       73.61395606, 85.38036566, 69.64173961, 85.64643656, 43.80254896,\n",
       "       78.21902504, 70.87047068, 67.0099265 , 70.91760777, 50.12431085,\n",
       "       67.80328112, 73.57112572, 84.77894045, 64.81729782, 61.91506397,\n",
       "       64.98242956, 79.15402118, 73.2875111 , 64.70239796, 75.13267433,\n",
       "       70.97077549, 79.68644991, 62.97946906, 66.72337853, 66.07891847,\n",
       "       55.36485052, 72.96120277, 72.61055272, 70.05113457, 67.65412867])"
      ]
     },
     "execution_count": 62,
     "metadata": {},
     "output_type": "execute_result"
    }
   ],
   "source": [
    "control_group"
   ]
  },
  {
   "cell_type": "code",
   "execution_count": 63,
   "id": "21e0ba47-d589-44c6-974b-7e45d19dd89c",
   "metadata": {},
   "outputs": [
    {
     "data": {
      "text/plain": [
       "array([ 60.84629258,  70.79354677,  71.57285483,  66.97722731,\n",
       "        73.38714288,  79.04050857,  93.86185901,  76.74577813,\n",
       "        77.57550391,  74.25554084,  55.81228785,  74.73486125,\n",
       "        75.6023021 ,  99.63242112,  73.07639035,  78.01547342,\n",
       "        74.6528823 ,  63.31321962,  86.42822815,  82.51933033,\n",
       "        82.91031947,  65.90612545,  89.02794311,  60.98148937,\n",
       "        80.86857094,  96.90455626,  65.09463675,  69.3370227 ,\n",
       "        75.99651365,  69.96524346,  59.49336569,  75.68562975,\n",
       "        64.37696286,  79.73592431,  65.80575766,  90.49934405,\n",
       "        67.16746708,  71.77938484,  83.13517217,  62.69135684,\n",
       "        77.27459935,  88.07142754,  58.92516765,  76.84633859,\n",
       "        77.59882794,  82.81822872,  62.63049289,  61.79543387,\n",
       "        80.21941566,  77.96984673,  77.5049285 ,  78.46448209,\n",
       "        68.19975278,  77.32253697,  77.93072473,  67.85648582,\n",
       "        93.65774511,  79.73832921,  63.08696503,  81.56553609,\n",
       "        65.2531833 ,  82.87084604,  86.58595579,  66.79317682,\n",
       "        84.63376129,  79.12780927,  83.2206016 ,  93.96792983,\n",
       "        72.54611884,  67.46263836,  66.1048557 ,  66.84189715,\n",
       "        74.22898291,  78.41151975,  77.76690799,  83.27183249,\n",
       "        75.13001892,  89.53534077,  72.35343167, 102.20169167,\n",
       "        81.25667348,  66.42842444,  64.29107502,  79.82472415,\n",
       "        72.76537215,  82.14000494,  79.73237625,  74.27171087,\n",
       "        66.53206282,  59.85152775,  70.53485048,  83.56398794,\n",
       "        77.14093744,  62.54261221,  76.73180926,  78.8531738 ,\n",
       "        66.16142564,  76.53725106,  75.58208718,  63.57029702])"
      ]
     },
     "execution_count": 63,
     "metadata": {},
     "output_type": "execute_result"
    }
   ],
   "source": [
    "experimental_group"
   ]
  },
  {
   "cell_type": "code",
   "execution_count": 60,
   "id": "bfdceb01-bc5a-4a99-a23b-39263407b683",
   "metadata": {},
   "outputs": [
    {
     "name": "stdout",
     "output_type": "stream",
     "text": [
      "Two-Sample T-Test Results:\n",
      "t-statistic: -4.754695943505281\n",
      "p-value: 3.819135262679478e-06\n",
      "The difference in test scores between the control and experimental groups is statistically significant.\n"
     ]
    }
   ],
   "source": [
    "# Perform two-sample t-test\n",
    "t_statistic, p_value = ttest_ind(control_group, experimental_group)\n",
    "\n",
    "\n",
    "print(\"Two-Sample T-Test Results:\")\n",
    "print(\"t-statistic:\", t_statistic)\n",
    "print(\"p-value:\", p_value)\n",
    "\n",
    "# Check if results are significant\n",
    "if p_value < 0.05:\n",
    "    print(\"The difference in test scores between the control and experimental groups is statistically significant.\")\n",
    "else:\n",
    "    print(\"There is not enough evidence to conclude a significant difference in test scores between the groups.\")\n"
   ]
  },
  {
   "cell_type": "code",
   "execution_count": 61,
   "id": "b618655c-7049-456d-a596-d8c9a55f03f5",
   "metadata": {},
   "outputs": [
    {
     "name": "stdout",
     "output_type": "stream",
     "text": [
      "\n",
      "Post-Hoc Test (Tukey's HSD) Results:\n",
      "  Multiple Comparison of Means - Tukey HSD, FWER=0.05   \n",
      "========================================================\n",
      " group1    group2    meandiff p-adj lower  upper  reject\n",
      "--------------------------------------------------------\n",
      "Control Experimental   6.2615   0.0 3.6645 8.8585   True\n",
      "--------------------------------------------------------\n"
     ]
    }
   ],
   "source": [
    "# If results are significant, follow up with post-hoc test\n",
    "if p_value < 0.05:\n",
    "    # Combine data for post-hoc test\n",
    "    all_scores = np.concatenate([control_group, experimental_group])\n",
    "    group_labels = ['Control'] * 100 + ['Experimental'] * 100\n",
    "    \n",
    "    # Perform post-hoc test (e.g., Tukey's HSD)\n",
    "    posthoc = mc.MultiComparison(all_scores, group_labels)\n",
    "    posthoc_results = posthoc.tukeyhsd()\n",
    "    \n",
    "    # Print post-hoc test results\n",
    "    print(\"\\nPost-Hoc Test (Tukey's HSD) Results:\")\n",
    "    print(posthoc_results)"
   ]
  },
  {
   "cell_type": "markdown",
   "id": "31014b66-f6d1-4b96-a8a2-ea29bf7c7875",
   "metadata": {},
   "source": [
    "### Q12. A researcher wants to know if there are any significant differences in the average daily sales of three retail stores: Store A, Store B, and Store C. They randomly select 30 days and record the sales for each store on those days. Conduct a repeated measures ANOVA using Python to determine if there are any significant differences in sales between the three stores. If the results are significant, follow up with a post- hoc test to determine which store(s) differ significantly from each other."
   ]
  },
  {
   "cell_type": "code",
   "execution_count": 70,
   "id": "bb00ff6e-af4e-4c6b-a390-40b55d270ca3",
   "metadata": {},
   "outputs": [],
   "source": [
    "import numpy as np\n",
    "import pandas as pd\n",
    "import pingouin as pg"
   ]
  },
  {
   "cell_type": "code",
   "execution_count": 71,
   "id": "bf42bc63-5110-4ed5-9823-91eca06b6a7a",
   "metadata": {},
   "outputs": [],
   "source": [
    "# Setting seed for reproducibility\n",
    "np.random.seed(42)\n",
    "\n",
    "# Generate random daily sales data for three stores\n",
    "store_A_sales = np.random.normal(loc=100, scale=20, size=30)\n",
    "store_B_sales = np.random.normal(loc=110, scale=25, size=30)\n",
    "store_C_sales = np.random.normal(loc=95, scale=15, size=30)\n",
    "\n",
    "# Combine data into a DataFrame\n",
    "df = pd.DataFrame({\n",
    "    'Sales': np.concatenate([store_A_sales, store_B_sales, store_C_sales]),\n",
    "    'Store': np.repeat(['A', 'B', 'C'], 30),\n",
    "    'Day': np.tile(np.arange(1, 31), 3)\n",
    "})"
   ]
  },
  {
   "cell_type": "code",
   "execution_count": null,
   "id": "f7d7dbb7-283f-482a-8d66-e1c7bd85a2dc",
   "metadata": {},
   "outputs": [],
   "source": []
  },
  {
   "cell_type": "code",
   "execution_count": 72,
   "id": "f1e59113-da9e-4545-bbcd-ec5c296f5162",
   "metadata": {},
   "outputs": [
    {
     "name": "stdout",
     "output_type": "stream",
     "text": [
      "Repeated Measures ANOVA Results:\n",
      "  Source  ddof1  ddof2         F     p-unc       ng2       eps\n",
      "0  Store      2     58  3.686103  0.031118  0.074828  0.959186\n"
     ]
    }
   ],
   "source": [
    "# Perform repeated measures ANOVA\n",
    "rm_anova_result = pg.rm_anova(data=df, dv='Sales', within='Store', subject='Day')\n",
    "\n",
    "# Print repeated measures ANOVA results\n",
    "print(\"Repeated Measures ANOVA Results:\")\n",
    "print(rm_anova_result)"
   ]
  },
  {
   "cell_type": "code",
   "execution_count": 73,
   "id": "1aae1557-e477-47fd-8161-f19b7e17e37b",
   "metadata": {},
   "outputs": [
    {
     "name": "stdout",
     "output_type": "stream",
     "text": [
      "\n",
      "The difference in sales between the three stores is statistically significant.\n",
      "\n",
      "Post-Hoc Test Results:\n",
      "  Contrast  A  B  Paired  Parametric         T   dof alternative     p-unc  \\\n",
      "0    Store  A  B    True        True -2.101014  29.0   two-sided  0.044446   \n",
      "1    Store  A  C    True        True  0.243517  29.0   two-sided  0.809319   \n",
      "2    Store  B  C    True        True  2.369288  29.0   two-sided  0.024695   \n",
      "\n",
      "     p-corr p-adjust   BF10    hedges  \n",
      "0  0.088892     holm  1.314 -0.509182  \n",
      "1  0.809319     holm    0.2  0.062386  \n",
      "2  0.074086     holm  2.117  0.595064  \n"
     ]
    },
    {
     "name": "stderr",
     "output_type": "stream",
     "text": [
      "/opt/conda/lib/python3.10/site-packages/pingouin/pairwise.py:28: UserWarning: pairwise_ttests is deprecated, use pairwise_tests instead.\n",
      "  warnings.warn(\"pairwise_ttests is deprecated, use pairwise_tests instead.\", UserWarning)\n"
     ]
    }
   ],
   "source": [
    "# Check if results are significant\n",
    "if rm_anova_result['p-unc'][0] < 0.05:\n",
    "    print(\"\\nThe difference in sales between the three stores is statistically significant.\")\n",
    "    \n",
    "    # Follow up with post-hoc test (e.g., pairwise t-tests with correction)\n",
    "    posthoc_result = pg.pairwise_ttests(data=df, dv='Sales', within='Store', subject='Day', padjust='holm')\n",
    "    \n",
    "    # Print post-hoc test results\n",
    "    print(\"\\nPost-Hoc Test Results:\")\n",
    "    print(posthoc_result)\n",
    "else:\n",
    "    print(\"\\nThere is not enough evidence to conclude a significant difference in sales between the three stores.\")\n"
   ]
  },
  {
   "cell_type": "code",
   "execution_count": null,
   "id": "cd315abc-09b7-47a5-8d0a-81575d5a03fd",
   "metadata": {},
   "outputs": [],
   "source": []
  }
 ],
 "metadata": {
  "kernelspec": {
   "display_name": "Python 3 (ipykernel)",
   "language": "python",
   "name": "python3"
  },
  "language_info": {
   "codemirror_mode": {
    "name": "ipython",
    "version": 3
   },
   "file_extension": ".py",
   "mimetype": "text/x-python",
   "name": "python",
   "nbconvert_exporter": "python",
   "pygments_lexer": "ipython3",
   "version": "3.10.8"
  }
 },
 "nbformat": 4,
 "nbformat_minor": 5
}
