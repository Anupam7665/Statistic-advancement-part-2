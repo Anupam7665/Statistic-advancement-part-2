{
 "cells": [
  {
   "cell_type": "markdown",
   "id": "ab480467-895c-4310-9b62-0140994040c4",
   "metadata": {},
   "source": [
    "### Q1. Write a Python function that takes in two arrays of data and calculates the F-value for a variance ratio test. The function should return the F-value and the corresponding p-value for the test."
   ]
  },
  {
   "cell_type": "code",
   "execution_count": 1,
   "id": "355b4e47-edf7-4540-a690-d60e828fb29c",
   "metadata": {},
   "outputs": [],
   "source": [
    "import numpy as np\n",
    "from scipy.stats import f"
   ]
  },
  {
   "cell_type": "code",
   "execution_count": 2,
   "id": "1b59aecb-f190-4c5f-9464-b25223dbae2d",
   "metadata": {},
   "outputs": [],
   "source": [
    "def calculate_f_value(data1, data2):\n",
    "    \n",
    "    # Ensure the input data are numpy arrays\n",
    "    data1 = np.array(data1)\n",
    "    data2 = np.array(data2)\n",
    "\n",
    "    # Calculate the variance of each group\n",
    "    var1 = np.var(data1, ddof=1)\n",
    "    var2 = np.var(data2, ddof=1)\n",
    "\n",
    "    # Calculate the F-value\n",
    "    f_value = var1 / var2\n",
    "\n",
    "    # Degrees of freedom for numerator and denominator\n",
    "    df1 = len(data1) - 1\n",
    "    df2 = len(data2) - 1\n",
    "\n",
    "    # Calculate the p-value using the F-distribution\n",
    "    p_value = 2 * (1 - f.cdf(f_value, df1, df2))\n",
    "\n",
    "    return f_value, p_value"
   ]
  },
  {
   "cell_type": "code",
   "execution_count": 3,
   "id": "4cf53104-8270-47ea-b959-99c43fad25c6",
   "metadata": {},
   "outputs": [],
   "source": [
    "# Example usage:\n",
    "group1_data = [10, 15, 12, 18, 20]\n",
    "group2_data = [8, 14, 11, 16, 19]\n",
    "\n",
    "f_value, p_value = calculate_f_value(group1_data, group2_data)"
   ]
  },
  {
   "cell_type": "code",
   "execution_count": 4,
   "id": "22c4aa47-a601-47b5-b593-304740de3d21",
   "metadata": {},
   "outputs": [
    {
     "name": "stdout",
     "output_type": "stream",
     "text": [
      "F-value: 0.9289617486338799\n",
      "P-value: 1.0552158199005124\n"
     ]
    }
   ],
   "source": [
    "print(\"F-value:\", f_value)\n",
    "print(\"P-value:\", p_value)"
   ]
  },
  {
   "cell_type": "code",
   "execution_count": 5,
   "id": "f0ced255-2873-4d6b-9bce-4d9a45a3053d",
   "metadata": {},
   "outputs": [],
   "source": [
    "import numpy as np\n",
    "from scipy.stats import f"
   ]
  },
  {
   "cell_type": "code",
   "execution_count": 6,
   "id": "ea15cd25-6ffb-4cd7-946f-4aaabed10229",
   "metadata": {},
   "outputs": [],
   "source": [
    "def calculate_f_value(data1, data2):\n",
    "   \n",
    "    data1 = np.array(data1)\n",
    "    data2 = np.array(data2)\n",
    "\n",
    "    var1 = np.var(data1, ddof=1)\n",
    "    var2 = np.var(data2, ddof=1)\n",
    "    \n",
    "    f_value = var1 / var2\n",
    "    \n",
    "    df1 = len(data1) - 1\n",
    "    df2 = len(data2) - 1\n",
    "\n",
    "    p_value = 2 * (1 - f.cdf(f_value, df1, df2))\n",
    "\n",
    "    return f_value, p_value"
   ]
  },
  {
   "cell_type": "code",
   "execution_count": 7,
   "id": "841f6c02-e4b1-4f08-886a-38ea013eff44",
   "metadata": {},
   "outputs": [],
   "source": [
    "group1_data = [10, 15, 12, 18, 20]\n",
    "group2_data = [8, 14, 11, 16, 19]\n",
    "\n",
    "f_value, p_value = calculate_f_value(group1_data, group2_data)"
   ]
  },
  {
   "cell_type": "code",
   "execution_count": 8,
   "id": "793068b3-d576-4d7d-a1a7-13033756fb9c",
   "metadata": {},
   "outputs": [
    {
     "name": "stdout",
     "output_type": "stream",
     "text": [
      "F-value: 0.9289617486338799\n",
      "P-value: 1.0552158199005124\n"
     ]
    }
   ],
   "source": [
    "print(\"F-value:\", f_value)\n",
    "print(\"P-value:\", p_value)"
   ]
  },
  {
   "cell_type": "markdown",
   "id": "2cdb2e09-1561-49bd-a464-113b4ee47861",
   "metadata": {},
   "source": [
    "### Q2. Given a significance level of 0.05 and the degrees of freedom for the numerator and denominator of an F-distribution, write a Python function that returns the critical F-value for a two-tailed test."
   ]
  },
  {
   "cell_type": "code",
   "execution_count": 9,
   "id": "d72bc968-8910-4eed-8b31-b57509a1cfbb",
   "metadata": {},
   "outputs": [],
   "source": [
    "worker1 = [18,19,22,25,27,28,41,45,51,55]\n",
    "worker2 = [14,15,15,17,18,22,25,25,27,34]"
   ]
  },
  {
   "cell_type": "code",
   "execution_count": 10,
   "id": "089fdfa5-76cb-41f1-93b9-0481a8a9ee98",
   "metadata": {},
   "outputs": [],
   "source": [
    "import numpy as np\n",
    "f_test = np.var(worker1)/np.var(worker2)"
   ]
  },
  {
   "cell_type": "code",
   "execution_count": 11,
   "id": "f7f37c55-9421-422e-b641-60fef722ee5d",
   "metadata": {},
   "outputs": [
    {
     "data": {
      "text/plain": [
       "4.387122002085506"
      ]
     },
     "execution_count": 11,
     "metadata": {},
     "output_type": "execute_result"
    }
   ],
   "source": [
    "f_test"
   ]
  },
  {
   "cell_type": "code",
   "execution_count": 12,
   "id": "8f5f73f2-60d2-4943-8127-88cf737d65d6",
   "metadata": {},
   "outputs": [],
   "source": [
    "df1 = len(worker1)-1\n",
    "df2 = len(worker2)-1\n",
    "significance_value = 0.05"
   ]
  },
  {
   "cell_type": "code",
   "execution_count": 13,
   "id": "fc66921d-dea9-45bf-8257-34a0220c2f34",
   "metadata": {},
   "outputs": [],
   "source": [
    "import scipy.stats as stat"
   ]
  },
  {
   "cell_type": "code",
   "execution_count": 14,
   "id": "92cef87c-a25f-45a5-a0c3-64cde61f3ba8",
   "metadata": {},
   "outputs": [],
   "source": [
    "critical_value = stat.f.ppf(q=1-significance_value , dfn=df1 , dfd=df2)"
   ]
  },
  {
   "cell_type": "code",
   "execution_count": 15,
   "id": "f58b5399-061d-4044-9eb6-f28b94580493",
   "metadata": {},
   "outputs": [
    {
     "data": {
      "text/plain": [
       "3.178893104458269"
      ]
     },
     "execution_count": 15,
     "metadata": {},
     "output_type": "execute_result"
    }
   ],
   "source": [
    "critical_value"
   ]
  },
  {
   "cell_type": "markdown",
   "id": "7676e1b8-50f0-45ce-8459-7e3ca8c506fa",
   "metadata": {},
   "source": [
    "### Q3. Write a Python program that generates random samples from two normal distributions with known variances and uses an F-test to determine if the variances are equal. The program should output the F- value, degrees of freedom, and p-value for the test."
   ]
  },
  {
   "cell_type": "code",
   "execution_count": 16,
   "id": "6cc4b1b3-06b0-4e6c-ba9e-4fc3406da50a",
   "metadata": {},
   "outputs": [],
   "source": [
    "import numpy as np\n",
    "from scipy.stats import f"
   ]
  },
  {
   "cell_type": "code",
   "execution_count": 17,
   "id": "4ac1b596-f391-4f76-a341-9af7728e2014",
   "metadata": {},
   "outputs": [],
   "source": [
    "def f_test_for_equal_variances(sample1, sample2):\n",
    "    \n",
    "    sample1 = np.array(sample1)\n",
    "    sample2 = np.array(sample2)\n",
    "\n",
    "    \n",
    "    var1 = np.var(sample1, ddof=1)\n",
    "    var2 = np.var(sample2, ddof=1)\n",
    "\n",
    "    \n",
    "    f_value = var1 / var2\n",
    "\n",
    "    \n",
    "    df_between = len(sample1) - 1\n",
    "    df_within = len(sample2) - 1\n",
    "\n",
    "   \n",
    "    p_value = 2 * min(f.cdf(f_value, df_between, df_within), 1 - f.cdf(f_value, df_between, df_within))\n",
    "\n",
    "    return f_value, df_between, df_within, p_value"
   ]
  },
  {
   "cell_type": "code",
   "execution_count": 22,
   "id": "a94ad65e-6aa5-475b-9508-560d6bf89b74",
   "metadata": {},
   "outputs": [
    {
     "data": {
      "text/plain": [
       "49"
      ]
     },
     "execution_count": 22,
     "metadata": {},
     "output_type": "execute_result"
    }
   ],
   "source": [
    "df_between"
   ]
  },
  {
   "cell_type": "code",
   "execution_count": 23,
   "id": "a4efe13c-d654-4e8b-b1ee-d28a8df4e3bc",
   "metadata": {},
   "outputs": [
    {
     "data": {
      "text/plain": [
       "49"
      ]
     },
     "execution_count": 23,
     "metadata": {},
     "output_type": "execute_result"
    }
   ],
   "source": [
    "df_within"
   ]
  },
  {
   "cell_type": "code",
   "execution_count": 24,
   "id": "9fbf7271-4bf4-439b-a545-b15bed1b6006",
   "metadata": {},
   "outputs": [],
   "source": [
    "np.random.seed(42)  \n",
    "sample1 = np.random.normal(loc=0, scale=1, size=50)\n",
    "sample2 = np.random.normal(loc=0, scale=1.5, size=50)"
   ]
  },
  {
   "cell_type": "code",
   "execution_count": 25,
   "id": "5d3f6cba-3ccb-4d46-b809-5dbbaab48566",
   "metadata": {},
   "outputs": [],
   "source": [
    "f_value, df_between, df_within, p_value = f_test_for_equal_variances(sample1, sample2)"
   ]
  },
  {
   "cell_type": "code",
   "execution_count": 26,
   "id": "20542758-ff4b-4167-bfd7-a0c5590b2656",
   "metadata": {},
   "outputs": [
    {
     "name": "stdout",
     "output_type": "stream",
     "text": [
      "F-value: 0.5068242392861003\n",
      "Degrees of Freedom (Between): 49\n",
      "Degrees of Freedom (Within): 49\n",
      "P-value: 0.019058614885567912\n"
     ]
    }
   ],
   "source": [
    "print(\"F-value:\", f_value)\n",
    "print(\"Degrees of Freedom (Between):\", df_between)\n",
    "print(\"Degrees of Freedom (Within):\", df_within)\n",
    "print(\"P-value:\", p_value)"
   ]
  },
  {
   "cell_type": "markdown",
   "id": "0c5ea090-681b-433e-ac79-dae1f32d3f14",
   "metadata": {},
   "source": [
    "### Q4.The variances of two populations are known to be 10 and 15. A sample of 12 observations is taken from each population. Conduct an F-test at the 5% significance level to determine if the variances are significantly different."
   ]
  },
  {
   "cell_type": "code",
   "execution_count": 27,
   "id": "1cd0e494-2ce0-467f-8e1f-125f79a79fd0",
   "metadata": {},
   "outputs": [],
   "source": [
    "from scipy.stats import f"
   ]
  },
  {
   "cell_type": "code",
   "execution_count": 28,
   "id": "a88a03e9-93b2-462a-8c4c-5617847cc31e",
   "metadata": {},
   "outputs": [],
   "source": [
    "def f_test_for_equal_variances(known_var1, known_var2, sample_size1, sample_size2, significance_level=0.05):\n",
    "   \n",
    "    # Calculate F-value\n",
    "    f_value = known_var1 / known_var2\n",
    "\n",
    "    # Degrees of freedom\n",
    "    df_between = sample_size1 - 1\n",
    "    df_within = sample_size2 - 1\n",
    "\n",
    "    # Calculate critical F-value for the given significance level\n",
    "    critical_f_value = f.ppf(1 - significance_level / 2, df_between, df_within)\n",
    "\n",
    "    # Calculate p-value using the F-distribution\n",
    "    p_value = 2 * min(f.cdf(f_value, df_between, df_within), 1 - f.cdf(f_value, df_between, df_within))\n",
    "\n",
    "    # Check if the null hypothesis is rejected\n",
    "    result = abs(f_value) > critical_f_value\n",
    "\n",
    "    return f_value, df_between, df_within, p_value, result"
   ]
  },
  {
   "cell_type": "code",
   "execution_count": 29,
   "id": "28349b3d-ab61-4307-b70a-ce019f654f35",
   "metadata": {},
   "outputs": [],
   "source": [
    "# Given information\n",
    "known_var1 = 10\n",
    "known_var2 = 15\n",
    "sample_size1 = 12\n",
    "sample_size2 = 12\n",
    "significance_level = 0.05"
   ]
  },
  {
   "cell_type": "code",
   "execution_count": 30,
   "id": "6117f51d-1fb4-48b7-897f-d2a774dcbb5c",
   "metadata": {},
   "outputs": [],
   "source": [
    "# Perform F-test\n",
    "f_value, df_between, df_within, p_value, result = f_test_for_equal_variances(\n",
    "    known_var1, known_var2, sample_size1, sample_size2, significance_level)"
   ]
  },
  {
   "cell_type": "code",
   "execution_count": 31,
   "id": "0744f705-602f-43ec-9cce-72bc9975654a",
   "metadata": {},
   "outputs": [
    {
     "name": "stdout",
     "output_type": "stream",
     "text": [
      "F-value: 0.6666666666666666\n",
      "Degrees of Freedom (Between): 11\n",
      "Degrees of Freedom (Within): 11\n",
      "P-value: 0.5123897987357996\n",
      "Reject Null Hypothesis: False\n"
     ]
    }
   ],
   "source": [
    "# Output results\n",
    "print(\"F-value:\", f_value)\n",
    "print(\"Degrees of Freedom (Between):\", df_between)\n",
    "print(\"Degrees of Freedom (Within):\", df_within)\n",
    "print(\"P-value:\", p_value)\n",
    "print(\"Reject Null Hypothesis:\", result)"
   ]
  },
  {
   "cell_type": "markdown",
   "id": "d7fe7cb4-3baf-4504-b39c-f7aab936b8ae",
   "metadata": {},
   "source": [
    "### Q5. A manufacturer claims that the variance of the diameter of a certain product is 0.005. A sample of 25 products is taken, and the sample variance is found to be 0.006. Conduct an F-test at the 1% significance level to determine if the claim is justified."
   ]
  },
  {
   "cell_type": "code",
   "execution_count": 32,
   "id": "432d4338-67be-4b11-ba71-5b248dc3097c",
   "metadata": {},
   "outputs": [],
   "source": [
    "from scipy.stats import f"
   ]
  },
  {
   "cell_type": "code",
   "execution_count": 33,
   "id": "73f33c19-7b77-446f-a79b-1e9ef064be91",
   "metadata": {},
   "outputs": [],
   "source": [
    "def f_test_for_variance_claim(claimed_variance, sample_variance, sample_size, significance_level=0.01):\n",
    "\n",
    "    # Calculate F-value\n",
    "    f_value = sample_variance / claimed_variance\n",
    "\n",
    "    # Degrees of freedom\n",
    "    df_between = sample_size - 1\n",
    "    df_within = 1  # Degrees of freedom for the denominator for a single variance\n",
    "\n",
    "    # Calculate critical F-value for the given significance level\n",
    "    critical_f_value = f.ppf(1 - significance_level, df_between, df_within)\n",
    "\n",
    "    # Calculate p-value using the F-distribution\n",
    "    p_value = 1 - f.cdf(f_value, df_between, df_within)\n",
    "\n",
    "    # Check if the null hypothesis is rejected\n",
    "    result = f_value > critical_f_value\n",
    "\n",
    "    return f_value, df_between, df_within, p_value, result"
   ]
  },
  {
   "cell_type": "code",
   "execution_count": 34,
   "id": "39ca7fa4-d61a-4e55-abcb-18256d798dcd",
   "metadata": {},
   "outputs": [
    {
     "data": {
      "text/plain": [
       "11"
      ]
     },
     "execution_count": 34,
     "metadata": {},
     "output_type": "execute_result"
    }
   ],
   "source": [
    "df_between"
   ]
  },
  {
   "cell_type": "code",
   "execution_count": 35,
   "id": "c930e129-c94c-4393-b716-e1d7f0875862",
   "metadata": {},
   "outputs": [
    {
     "data": {
      "text/plain": [
       "11"
      ]
     },
     "execution_count": 35,
     "metadata": {},
     "output_type": "execute_result"
    }
   ],
   "source": [
    "df_within"
   ]
  },
  {
   "cell_type": "code",
   "execution_count": 36,
   "id": "7ff4cc5e-9dca-4a6e-ba3e-ea7a07d0c3dc",
   "metadata": {},
   "outputs": [],
   "source": [
    "# Given information\n",
    "claimed_variance = 0.005\n",
    "sample_variance = 0.006\n",
    "sample_size = 25\n",
    "significance_level = 0.01"
   ]
  },
  {
   "cell_type": "code",
   "execution_count": 37,
   "id": "2da7d646-d22f-45d7-afb6-6981906a5da7",
   "metadata": {},
   "outputs": [],
   "source": [
    "# Perform F-test\n",
    "f_value, df_between, df_within, p_value, result = f_test_for_variance_claim(\n",
    "    claimed_variance, sample_variance, sample_size, significance_level)"
   ]
  },
  {
   "cell_type": "code",
   "execution_count": 38,
   "id": "3929e4bb-a726-42bc-8831-de297514dcb1",
   "metadata": {},
   "outputs": [
    {
     "name": "stdout",
     "output_type": "stream",
     "text": [
      "F-value: 1.2\n",
      "Degrees of Freedom (Between): 24\n",
      "Degrees of Freedom (Within): 1\n",
      "P-value: 0.6296099619959358\n",
      "Reject Null Hypothesis: False\n"
     ]
    }
   ],
   "source": [
    "# Output results\n",
    "print(\"F-value:\", f_value)\n",
    "print(\"Degrees of Freedom (Between):\", df_between)\n",
    "print(\"Degrees of Freedom (Within):\", df_within)\n",
    "print(\"P-value:\", p_value)\n",
    "print(\"Reject Null Hypothesis:\", result)"
   ]
  },
  {
   "cell_type": "markdown",
   "id": "f1aa6c51-4025-4ceb-88b2-43840b41dbaa",
   "metadata": {},
   "source": [
    "### Q6. Write a Python function that takes in the degrees of freedom for the numerator and denominator of an F-distribution and calculates the mean and variance of the distribution. The function should return the mean and variance as a tuple."
   ]
  },
  {
   "cell_type": "code",
   "execution_count": 39,
   "id": "7ba9a141-0855-4b61-90e4-2963473ca43d",
   "metadata": {},
   "outputs": [],
   "source": [
    "def calculate_f_distribution_mean_and_variance(df1, df2):\n",
    "    \n",
    "    # Calculate mean\n",
    "    mean = df2 / (df2 - 2)\n",
    "\n",
    "    # Calculate variance\n",
    "    variance = (2 * df2**2 * (df1 + df2 - 2)) / (df1 * (df2 - 2)**2 * (df2 - 4))\n",
    "\n",
    "    return mean, variance"
   ]
  },
  {
   "cell_type": "code",
   "execution_count": 40,
   "id": "09d80a9e-aa26-4643-8195-3cfb42f5b8bd",
   "metadata": {},
   "outputs": [],
   "source": [
    "# Example usage:\n",
    "df1 = 3\n",
    "df2 = 15"
   ]
  },
  {
   "cell_type": "code",
   "execution_count": 41,
   "id": "c3b69bde-2af2-4547-9db7-f74bfb56f8b4",
   "metadata": {},
   "outputs": [],
   "source": [
    "mean, variance = calculate_f_distribution_mean_and_variance(df1, df2)"
   ]
  },
  {
   "cell_type": "code",
   "execution_count": 42,
   "id": "67fd8593-ddd3-4599-a933-035484630386",
   "metadata": {},
   "outputs": [
    {
     "name": "stdout",
     "output_type": "stream",
     "text": [
      "Mean: 1.1538461538461537\n",
      "Variance: 1.2910166756320602\n"
     ]
    }
   ],
   "source": [
    "print(\"Mean:\", mean)\n",
    "print(\"Variance:\", variance)"
   ]
  },
  {
   "cell_type": "markdown",
   "id": "eeb0e948-f413-47fa-b459-3a2a4d234b2d",
   "metadata": {},
   "source": [
    "### 7. A random sample of 10 measurements is taken from a normal population with unknown variance. The sample variance is found to be 25. Another random sample of 15 measurements is taken from another normal population with unknown variance, and the sample variance is found to be 20. Conduct an F-test at the 10% significance level to determine if the variances are significantly different."
   ]
  },
  {
   "cell_type": "code",
   "execution_count": 44,
   "id": "1fe53b3e-945e-47f2-afbe-bbf6b7268274",
   "metadata": {},
   "outputs": [],
   "source": [
    "from scipy.stats import f"
   ]
  },
  {
   "cell_type": "code",
   "execution_count": 45,
   "id": "7ca08442-805a-41da-9a77-5f2d0badab5a",
   "metadata": {},
   "outputs": [],
   "source": [
    "def f_test_for_equal_variances(sample_var1, sample_var2, sample_size1, sample_size2, significance_level=0.1):\n",
    "    \n",
    "    # Calculate F-value\n",
    "    f_value = sample_var1 / sample_var2\n",
    "\n",
    "    # Degrees of freedom\n",
    "    df_between = sample_size1 - 1\n",
    "    df_within = sample_size2 - 1\n",
    "\n",
    "    # Calculate critical F-value for the given significance level\n",
    "    critical_f_value = f.ppf(1 - significance_level / 2, df_between, df_within)\n",
    "\n",
    "    # Calculate p-value using the F-distribution\n",
    "    p_value = 2 * min(f.cdf(f_value, df_between, df_within), 1 - f.cdf(f_value, df_between, df_within))\n",
    "\n",
    "    # Check if the null hypothesis is rejected\n",
    "    result = abs(f_value) > critical_f_value\n",
    "\n",
    "    return f_value, df_between, df_within, p_value, result"
   ]
  },
  {
   "cell_type": "code",
   "execution_count": 46,
   "id": "44a33b2e-af64-4965-9be9-30f38dd5f2f2",
   "metadata": {},
   "outputs": [
    {
     "data": {
      "text/plain": [
       "24"
      ]
     },
     "execution_count": 46,
     "metadata": {},
     "output_type": "execute_result"
    }
   ],
   "source": [
    "df_between"
   ]
  },
  {
   "cell_type": "code",
   "execution_count": 47,
   "id": "a52dc362-c0bb-4769-9f6c-e2dcb1e20881",
   "metadata": {},
   "outputs": [
    {
     "data": {
      "text/plain": [
       "1"
      ]
     },
     "execution_count": 47,
     "metadata": {},
     "output_type": "execute_result"
    }
   ],
   "source": [
    "df_within"
   ]
  },
  {
   "cell_type": "code",
   "execution_count": 48,
   "id": "ad31a1fb-a013-4234-84f0-b405ba7c1e3f",
   "metadata": {},
   "outputs": [],
   "source": [
    "# Given information\n",
    "sample_var1 = 25\n",
    "sample_var2 = 20\n",
    "sample_size1 = 10\n",
    "sample_size2 = 15\n",
    "significance_level = 0.1"
   ]
  },
  {
   "cell_type": "code",
   "execution_count": 49,
   "id": "0e41ba6e-06a0-4533-87f4-82a41458581e",
   "metadata": {},
   "outputs": [],
   "source": [
    "# Perform F-test\n",
    "f_value, df_between, df_within, p_value, result = f_test_for_equal_variances(\n",
    "    sample_var1, sample_var2, sample_size1, sample_size2, significance_level)"
   ]
  },
  {
   "cell_type": "code",
   "execution_count": 49,
   "id": "699428e0-9e9d-499e-b5f5-5c4e90a07a73",
   "metadata": {},
   "outputs": [
    {
     "name": "stdout",
     "output_type": "stream",
     "text": [
      "F-value: 1.25\n",
      "Degrees of Freedom (Between): 9\n",
      "Degrees of Freedom (Within): 14\n",
      "P-value: 0.6832194382585954\n",
      "Reject Null Hypothesis: False\n"
     ]
    }
   ],
   "source": [
    "# Output results\n",
    "print(\"F-value:\", f_value)\n",
    "print(\"Degrees of Freedom (Between):\", df_between)\n",
    "print(\"Degrees of Freedom (Within):\", df_within)\n",
    "print(\"P-value:\", p_value)\n",
    "print(\"Reject Null Hypothesis:\", result)"
   ]
  },
  {
   "cell_type": "markdown",
   "id": "e32bb5cb-48b8-463b-a986-0f64fb1abf56",
   "metadata": {},
   "source": [
    "### Q8. The following data represent the waiting times in minutes at two different restaurants on a Saturday night: Restaurant A: 24, 25, 28, 23, 22, 20, 27; Restaurant B: 31, 33, 35, 30, 32, 36. Conduct an F-test at the 5% significance level to determine if the variances are significantly different."
   ]
  },
  {
   "cell_type": "code",
   "execution_count": 62,
   "id": "cf6a8217-d4b0-4328-ac48-e4ffb7aabb0d",
   "metadata": {},
   "outputs": [],
   "source": [
    "from scipy.stats import f_oneway"
   ]
  },
  {
   "cell_type": "code",
   "execution_count": 63,
   "id": "7c06913a-9f8b-43d9-9136-a822ebf3a801",
   "metadata": {},
   "outputs": [],
   "source": [
    "# Given data\n",
    "data_a = [24, 25, 28, 23, 22, 20, 27]\n",
    "data_b = [31, 33, 35, 30, 32, 36]"
   ]
  },
  {
   "cell_type": "code",
   "execution_count": 64,
   "id": "7bab3b1b-ab39-483f-9c65-5e07451f3c61",
   "metadata": {},
   "outputs": [],
   "source": [
    "# Perform F-test\n",
    "f_statistic, p_value = f_oneway(data_a, data_b)\n",
    "\n",
    "# Significance level\n",
    "alpha = 0.05"
   ]
  },
  {
   "cell_type": "code",
   "execution_count": 67,
   "id": "10bc8578-599d-4dcb-9745-9c845e2b2817",
   "metadata": {},
   "outputs": [
    {
     "name": "stdout",
     "output_type": "stream",
     "text": [
      "F-statistic: 36.42289051820553\n",
      "P-value: 8.48759371471029e-05\n"
     ]
    }
   ],
   "source": [
    " #Output results\n",
    "print(\"F-statistic:\", f_statistic)\n",
    "print(\"P-value:\", p_value)"
   ]
  },
  {
   "cell_type": "code",
   "execution_count": 68,
   "id": "4c3cf034-c2b7-485b-8bcd-51daa42e03ec",
   "metadata": {},
   "outputs": [
    {
     "name": "stdout",
     "output_type": "stream",
     "text": [
      "Reject the null hypothesis. Variances are significantly different.\n"
     ]
    }
   ],
   "source": [
    "# Check if the null hypothesis is rejected\n",
    "if p_value < alpha:\n",
    "    print(\"Reject the null hypothesis. Variances are significantly different.\")\n",
    "else:\n",
    "    print(\"Fail to reject the null hypothesis. Variances are not significantly different.\")\n"
   ]
  },
  {
   "cell_type": "markdown",
   "id": "199f7d27-eb1d-432c-9989-63c6b3166577",
   "metadata": {},
   "source": [
    "### Q9. The following data represent the test scores of two groups of students: Group A: 80, 85, 90, 92, 87, 83; Group B: 75, 78, 82, 79, 81, 84. Conduct an F-test at the 1% significance level to determine if the variances are significantly different."
   ]
  },
  {
   "cell_type": "code",
   "execution_count": 50,
   "id": "6601af56-cdb3-4467-ad91-f3e58e5db504",
   "metadata": {},
   "outputs": [],
   "source": [
    "from scipy.stats import f_oneway"
   ]
  },
  {
   "cell_type": "code",
   "execution_count": 51,
   "id": "25c58d49-90fa-4e10-93a2-606d6e786e89",
   "metadata": {},
   "outputs": [],
   "source": [
    "# Given data\n",
    "group_a_scores = [80, 85, 90, 92, 87, 83]\n",
    "group_b_scores = [75, 78, 82, 79, 81, 84]"
   ]
  },
  {
   "cell_type": "code",
   "execution_count": 53,
   "id": "35c88754-58d9-4291-ab00-54c96c91f437",
   "metadata": {},
   "outputs": [],
   "source": [
    "# Perform F-test\n",
    "f_statistic, p_value = f_oneway(group_a_scores, group_b_scores)\n",
    "\n",
    "# Significance level\n",
    "alpha = 0.01"
   ]
  },
  {
   "cell_type": "code",
   "execution_count": 54,
   "id": "3fcb4114-dbcb-44be-a5d4-c592fbca6f8a",
   "metadata": {},
   "outputs": [
    {
     "name": "stdout",
     "output_type": "stream",
     "text": [
      "F-statistic: 8.040089086859687\n",
      "P-value: 0.017684171924487787\n"
     ]
    }
   ],
   "source": [
    "# Output results\n",
    "print(\"F-statistic:\", f_statistic)\n",
    "print(\"P-value:\", p_value)"
   ]
  },
  {
   "cell_type": "code",
   "execution_count": 56,
   "id": "4b192a08-dab4-4915-a18d-7324c752ee0f",
   "metadata": {},
   "outputs": [
    {
     "name": "stdout",
     "output_type": "stream",
     "text": [
      "Fail to reject the null hypothesis. Variances are not significantly different.\n"
     ]
    }
   ],
   "source": [
    "#Check if the null hypothesis is rejected\n",
    "if p_value < alpha:\n",
    "    print(\"Reject the null hypothesis. Variances are significantly different.\")\n",
    "else:\n",
    "    print(\"Fail to reject the null hypothesis. Variances are not significantly different.\")"
   ]
  }
 ],
 "metadata": {
  "kernelspec": {
   "display_name": "Python 3 (ipykernel)",
   "language": "python",
   "name": "python3"
  },
  "language_info": {
   "codemirror_mode": {
    "name": "ipython",
    "version": 3
   },
   "file_extension": ".py",
   "mimetype": "text/x-python",
   "name": "python",
   "nbconvert_exporter": "python",
   "pygments_lexer": "ipython3",
   "version": "3.10.8"
  }
 },
 "nbformat": 4,
 "nbformat_minor": 5
}
