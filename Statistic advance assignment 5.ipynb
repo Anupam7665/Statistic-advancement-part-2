{
 "cells": [
  {
   "cell_type": "markdown",
   "id": "18342a74-2e09-4f9d-966c-0c9d1c7237ec",
   "metadata": {},
   "source": [
    "### Q1. Calculate the 95% confidence interval for a sample of data with a mean of 50 and a standard deviation of 5 using Python. Interpret the results."
   ]
  },
  {
   "cell_type": "code",
   "execution_count": 1,
   "id": "92d0d621-85b8-4a9e-83d7-8a3b2f22280e",
   "metadata": {},
   "outputs": [],
   "source": [
    "import scipy.stats as stats"
   ]
  },
  {
   "cell_type": "code",
   "execution_count": 4,
   "id": "96db1015-2fba-42d9-963b-4578fa684ccf",
   "metadata": {},
   "outputs": [],
   "source": [
    "mean = 50\n",
    "std_dev = 5\n",
    "sample_size = 100  # You should replace this with your actual sample size"
   ]
  },
  {
   "cell_type": "code",
   "execution_count": 7,
   "id": "3ed77a6c-3ed0-4798-a616-a44202818a17",
   "metadata": {},
   "outputs": [],
   "source": [
    "standard_error = std_dev / (sample_size**0.5)\n",
    "\n",
    "\n",
    "confidence_level = 0.95\n",
    "margin_of_error = stats.norm.ppf((1 + confidence_level) / 2) * standard_error\n",
    "\n",
    "lower_bound = mean - margin_of_error\n",
    "upper_bound = mean + margin_of_error"
   ]
  },
  {
   "cell_type": "code",
   "execution_count": 8,
   "id": "f88e8072-70ec-4a1e-8b00-fd9e73206516",
   "metadata": {},
   "outputs": [
    {
     "name": "stdout",
     "output_type": "stream",
     "text": [
      "95% Confidence Interval: (49.02001800772997, 50.97998199227003)\n"
     ]
    }
   ],
   "source": [
    "print(f\"95% Confidence Interval: ({lower_bound}, {upper_bound})\")\n"
   ]
  },
  {
   "cell_type": "markdown",
   "id": "c7946513-932b-4aee-985a-c7c909c903d3",
   "metadata": {},
   "source": [
    "### Q2 Conduct a chi-square goodness of fit test to determine if the distribution of colors of M&Ms in a bag matches the expected distribution of 20% blue, 20% orange, 20% green, 10% yellow, 10% red, and 20% brown. Use Python to perform the test with a significance level of 0.05."
   ]
  },
  {
   "cell_type": "code",
   "execution_count": 2,
   "id": "eff1496e-38a7-4eb6-820a-efb7c7a3c711",
   "metadata": {},
   "outputs": [],
   "source": [
    "import numpy as np\n",
    "from scipy.stats import chisquare"
   ]
  },
  {
   "cell_type": "code",
   "execution_count": 27,
   "id": "fdceb6ec-c6c2-4b7b-a255-a636460c4157",
   "metadata": {},
   "outputs": [],
   "source": [
    "observed_frequencies = np.array([25, 15, 30, 10, 10, 20])  # Replace with your actual data\n",
    "\n",
    "expected_proportions = np.array([0.20, 0.20, 0.20, 0.10, 0.10, 0.20])\n",
    "\n",
    "total_count = sum(observed_frequencies)\n",
    "expected_frequencies = expected_proportions * total_count\n",
    "\n",
    "chi_stat, p_value = chisquare(observed_frequencies, f_exp=expected_frequencies)"
   ]
  },
  {
   "cell_type": "code",
   "execution_count": 28,
   "id": "d472d837-8502-41a1-8b5f-e9c6fe929b39",
   "metadata": {},
   "outputs": [
    {
     "name": "stdout",
     "output_type": "stream",
     "text": [
      "Chi-square statistic: 5.909090909090908\n",
      "P-value: 0.31516553465806285\n"
     ]
    }
   ],
   "source": [
    "print(\"Chi-square statistic:\", chi_stat)\n",
    "print(\"P-value:\", p_value)"
   ]
  },
  {
   "cell_type": "code",
   "execution_count": 29,
   "id": "6a4224fb-8a02-4dd3-a3c4-c596f7661d1b",
   "metadata": {},
   "outputs": [
    {
     "name": "stdout",
     "output_type": "stream",
     "text": [
      "Fail to reject the null hypothesis. The distribution of colors is consistent with the expected distribution.\n"
     ]
    }
   ],
   "source": [
    "\n",
    "alpha = 0.05\n",
    "if p_value < alpha:\n",
    "    print(\"Reject the null hypothesis. The distribution of colors is significantly different from the expected distribution.\")\n",
    "else:\n",
    "    print(\"Fail to reject the null hypothesis. The distribution of colors is consistent with the expected distribution.\")"
   ]
  },
  {
   "attachments": {
    "9e0e3fc7-65f2-4aef-b7c8-f911dd52a1bf.png": {
     "image/png": "[encoded data removed]"
    }
   },
   "cell_type": "markdown",
   "id": "6bf3484b-7f79-471a-971b-720d157df564",
   "metadata": {},
   "source": [
    "### Q3. Use Python to calculate the chi-square statistic and p-value for a contingency table with the following data:\n",
    "\n",
    "![image.png](attachment:9e0e3fc7-65f2-4aef-b7c8-f911dd52a1bf.png)\n",
    "\n",
    "**Interpret the result of the test**"
   ]
  },
  {
   "cell_type": "code",
   "execution_count": 32,
   "id": "4458b9c4-5825-46d5-b272-de28a569dbd6",
   "metadata": {},
   "outputs": [],
   "source": [
    "table = [[20, 15], [10, 25], [15, 20]]\n",
    "\n",
    "chi_stat, p_value, dof, expected = stats.chi2_contingency(table)"
   ]
  },
  {
   "cell_type": "code",
   "execution_count": 33,
   "id": "f11c1b60-25e7-463c-8432-8f2632ba8401",
   "metadata": {},
   "outputs": [
    {
     "name": "stdout",
     "output_type": "stream",
     "text": [
      "Chi-square statistic: 5.833333333333334\n",
      "P-value: 0.05411376622282158\n",
      "Degrees of freedom: 2\n",
      "Expected frequencies: [[15. 20.]\n",
      " [15. 20.]\n",
      " [15. 20.]]\n"
     ]
    }
   ],
   "source": [
    "print(\"Chi-square statistic:\", chi_stat)\n",
    "print(\"P-value:\", p_value)\n",
    "print(\"Degrees of freedom:\", dof)\n",
    "print(\"Expected frequencies:\", expected)"
   ]
  },
  {
   "cell_type": "markdown",
   "id": "937c681a-c625-48a0-9484-1d9a89e7a0fc",
   "metadata": {},
   "source": [
    "### Q4. A study of the prevalence of smoking in a population of 500 individuals found that 60 individuals smoked. Use Python to calculate the 95% confidence interval for the true proportion of individuals in the population who smoke."
   ]
  },
  {
   "cell_type": "code",
   "execution_count": 3,
   "id": "7fec831f-70e8-4ca0-b7c5-ef8c696935d4",
   "metadata": {},
   "outputs": [],
   "source": [
    "import statsmodels.api as sm"
   ]
  },
  {
   "cell_type": "code",
   "execution_count": 42,
   "id": "bededd3f-c002-4829-863c-7e91985cfa1e",
   "metadata": {},
   "outputs": [],
   "source": [
    "total_individuals = 500\n",
    "smokers = 60"
   ]
  },
  {
   "cell_type": "code",
   "execution_count": 43,
   "id": "72c2d4b9-be9e-4c4d-9516-581ba56b23a0",
   "metadata": {},
   "outputs": [],
   "source": [
    "smoking_proportion = smokers / total_individuals\n",
    "\n",
    "confidence_interval = sm.stats.proportion_confint(smokers, total_individuals, alpha=0.05)"
   ]
  },
  {
   "cell_type": "code",
   "execution_count": 44,
   "id": "579d4f1a-6d87-4aef-842f-23fd640a0c08",
   "metadata": {},
   "outputs": [
    {
     "name": "stdout",
     "output_type": "stream",
     "text": [
      "Proportion of smokers: 0.1200\n",
      "95% Confidence Interval: (0.09151638887130706, 0.14848361112869293)\n"
     ]
    }
   ],
   "source": [
    " print(f\"Proportion of smokers: {smoking_proportion:.4f}\")\n",
    "print(f\"95% Confidence Interval: {confidence_interval}\")"
   ]
  },
  {
   "cell_type": "markdown",
   "id": "2d3cc2b0-36a4-483c-b70e-4c4a7164aec9",
   "metadata": {},
   "source": [
    "### Q5. Calculate the 90% confidence interval for a sample of data with a mean of 75 and a standard deviation of 12 using Python. Interpret the results."
   ]
  },
  {
   "cell_type": "code",
   "execution_count": 51,
   "id": "532f1991-f712-481f-9c0d-a4b976b5366c",
   "metadata": {},
   "outputs": [],
   "source": [
    "mean = 75\n",
    "std_dev = 12\n",
    "sample_size = 100  "
   ]
  },
  {
   "cell_type": "code",
   "execution_count": 52,
   "id": "f94a7c5a-0855-43e1-baf8-68c2e3a761f3",
   "metadata": {},
   "outputs": [],
   "source": [
    "standard_error = std_dev / (sample_size**0.5)\n",
    "\n",
    "confidence_level = 0.90\n",
    "\n",
    "margin_of_error = stats.norm.ppf((1 + confidence_level) / 2) * standard_error\n",
    "\n",
    "lower_bound = mean - margin_of_error\n",
    "upper_bound = mean + margin_of_error"
   ]
  },
  {
   "cell_type": "code",
   "execution_count": 53,
   "id": "47821bda-ce22-4594-8151-7f63d9c3590f",
   "metadata": {},
   "outputs": [
    {
     "name": "stdout",
     "output_type": "stream",
     "text": [
      "90% Confidence Interval: (73.03, 76.97)\n"
     ]
    }
   ],
   "source": [
    "print(f\"90% Confidence Interval: ({lower_bound:.2f}, {upper_bound:.2f})\")"
   ]
  },
  {
   "cell_type": "markdown",
   "id": "7b3760fe-c18b-4836-afdb-ac310d0395d2",
   "metadata": {},
   "source": [
    "### Q6.Use Python to plot the chi-square distribution with 10 degrees of freedom. Label the axes and shade the area corresponding to a chi-square statistic of 15."
   ]
  },
  {
   "cell_type": "code",
   "execution_count": 4,
   "id": "64b2a72c-7ae6-438d-b1f5-9339ce30e518",
   "metadata": {},
   "outputs": [],
   "source": [
    "import numpy as np\n",
    "import matplotlib.pyplot as plt\n",
    "import scipy.stats as stats"
   ]
  },
  {
   "cell_type": "code",
   "execution_count": null,
   "id": "b4f73cc4-74d1-45fe-8100-1e2f616b7272",
   "metadata": {},
   "outputs": [],
   "source": [
    "df = 10\n",
    "\n",
    "x = np.linspace(0, 30, 1000)\n",
    "\n",
    "plt.plot(x, stats.chi2.pdf(x, df), label=f'Chi-square distribution with {df} df')\n",
    "\n",
    "\n",
    "x_fill = np.linspace(0, 15, 100)\n",
    "plt.fill_between(x_fill, stats.chi2.pdf(x_fill, df), color='skyblue', alpha=0.5, label='Area for chi-square stat of 15')"
   ]
  },
  {
   "cell_type": "code",
   "execution_count": 61,
   "id": "5300f454-73df-49f2-9dd8-b60910f82ed1",
   "metadata": {},
   "outputs": [
    {
     "data": {
      "image/png": "[encoded data removed]",
      "text/plain": [
       "<Figure size 640x480 with 1 Axes>"
      ]
     },
     "metadata": {},
     "output_type": "display_data"
    }
   ],
   "source": [
    "plt.xlabel('Chi-square statistic')\n",
    "plt.ylabel('Probability Density Function (PDF)')\n",
    "plt.title(f'Chi-square Distribution with {df} Degrees of Freedom')\n",
    "plt.legend()\n",
    "\n",
    "# Show the plot\n",
    "plt.show()\n"
   ]
  },
  {
   "cell_type": "markdown",
   "id": "15857613-622e-4af9-a713-7703f5d1a5aa",
   "metadata": {},
   "source": [
    "### Q7. A random sample of 1000 people was asked if they preferred Coke or Pepsi. Of the sample, 520 preferred Coke. Calculate a 99% confidence interval for the true proportion of people in the population who prefer Coke."
   ]
  },
  {
   "cell_type": "code",
   "execution_count": 68,
   "id": "8b9ae91d-3dc9-4bd0-9c3d-6b346720582b",
   "metadata": {},
   "outputs": [],
   "source": [
    "import statsmodels.stats.proportion as smp"
   ]
  },
  {
   "cell_type": "code",
   "execution_count": 69,
   "id": "d6d75dc6-c38e-470c-8c92-8676205be005",
   "metadata": {},
   "outputs": [],
   "source": [
    "successes = 520\n",
    "trials = 1000\n",
    "confidence_level = 0.99"
   ]
  },
  {
   "cell_type": "code",
   "execution_count": 70,
   "id": "6fa91d8d-7d59-4229-a4d3-de5607b10749",
   "metadata": {},
   "outputs": [],
   "source": [
    "lower, upper = smp.proportion_confint(successes, trials, confidence_level)"
   ]
  },
  {
   "cell_type": "code",
   "execution_count": 71,
   "id": "1cacf440-6d2b-47fe-a9df-9940bb2defd8",
   "metadata": {},
   "outputs": [
    {
     "name": "stdout",
     "output_type": "stream",
     "text": [
      "The 99% confidence interval for the true proportion of people in the population who prefer Coke is: 0.5198019870475594 to 0.5201980129524406\n"
     ]
    }
   ],
   "source": [
    "print(\"The 99% confidence interval for the true proportion of people in the population who prefer Coke is:\", lower, \"to\", upper)"
   ]
  },
  {
   "cell_type": "markdown",
   "id": "8f67bcff-7526-4ad4-8f23-287fa2210571",
   "metadata": {},
   "source": [
    "### Q8. A researcher hypothesizes that a coin is biased towards tails. They flip the coin 100 times and observe 45 tails. Conduct a chi-square goodness of fit test to determine if the observed frequencies match the expected frequencies of a fair coin. Use a significance level of 0.05."
   ]
  },
  {
   "cell_type": "code",
   "execution_count": 78,
   "id": "449508cc-3def-4e2f-8d4a-ae76cf6c16da",
   "metadata": {},
   "outputs": [],
   "source": [
    "observed_tails = 45\n",
    "total_flips = 100"
   ]
  },
  {
   "cell_type": "code",
   "execution_count": 79,
   "id": "f8c61c5f-63b0-4219-b1bc-2664906e2f41",
   "metadata": {},
   "outputs": [],
   "source": [
    "observed_frequencies = np.array([total_flips - observed_tails, observed_tails])\n",
    "\n",
    "expected_frequencies = np.array([expected_heads, expected_tails])\n",
    "\n",
    "chi2_stat, p_value = chisquare(observed_frequencies, f_exp=expected_frequencies)"
   ]
  },
  {
   "cell_type": "code",
   "execution_count": 80,
   "id": "a9c7926b-7fd3-4e3c-90c4-002140f7bcfb",
   "metadata": {},
   "outputs": [
    {
     "name": "stdout",
     "output_type": "stream",
     "text": [
      "Chi-square statistic: 1.0\n",
      "P-value: 0.31731050786291115\n"
     ]
    }
   ],
   "source": [
    "print(\"Chi-square statistic:\", chi2_stat)\n",
    "print(\"P-value:\", p_value)"
   ]
  },
  {
   "cell_type": "code",
   "execution_count": 81,
   "id": "46df5a19-86c1-4098-ace8-e40803cb2127",
   "metadata": {},
   "outputs": [
    {
     "name": "stdout",
     "output_type": "stream",
     "text": [
      "Fail to reject the null hypothesis. There is not enough evidence to suggest bias towards tails.\n"
     ]
    }
   ],
   "source": [
    "alpha = 0.05\n",
    "if p_value < alpha:\n",
    "    print(\"Reject the null hypothesis. The coin is biased towards tails.\")\n",
    "else:\n",
    "    print(\"Fail to reject the null hypothesis. There is not enough evidence to suggest bias towards tails.\")"
   ]
  },
  {
   "attachments": {
    "fa5015a9-6416-410e-a0ec-2c990ccd5d50.png": {
     "image/png": "[encoded data removed]"
    }
   },
   "cell_type": "markdown",
   "id": "58e083fc-3480-4b91-a136-efe5204f2833",
   "metadata": {},
   "source": [
    "### Q9. A study was conducted to determine if there is an association between smoking status (smoker or non-smoker) and lung cancer diagnosis (yes or no). The results are shown in the contingency table below. Conduct a chi-square test for independence to determine if there is a significant association between smoking status and lung cancer diagnosis.\n",
    "\n",
    "![image.png](attachment:fa5015a9-6416-410e-a0ec-2c990ccd5d50.png)\n",
    "\n",
    "### Use a significance level of 0.05."
   ]
  },
  {
   "cell_type": "code",
   "execution_count": 7,
   "id": "3097ed99-1266-417b-b51f-0665192d50ad",
   "metadata": {},
   "outputs": [],
   "source": [
    "contingency_table = np.array([[20, 15],\n",
    "                              [10, 25],\n",
    "                              [15, 20]])\n",
    "\n",
    "\n",
    "group_b_data = np.array([[60, 140],\n",
    "                         [30, 0]])\n",
    "\n",
    "full_contingency_table = np.vstack((contingency_table, group_b_data))\n",
    "\n",
    "chi2_stat, p_value, dof, expected = chi2_contingency(full_contingency_table)"
   ]
  },
  {
   "cell_type": "code",
   "execution_count": 8,
   "id": "8f6c2745-d03a-4586-b9b8-42663341ad4b",
   "metadata": {},
   "outputs": [
    {
     "name": "stdout",
     "output_type": "stream",
     "text": [
      "Chi-square statistic: 59.48465608465607\n",
      "P-value: 3.7222694227963344e-12\n",
      "Degrees of Freedom: 4\n",
      "Expected Frequencies:\n",
      "[[ 14.10447761  20.89552239]\n",
      " [ 14.10447761  20.89552239]\n",
      " [ 14.10447761  20.89552239]\n",
      " [ 80.59701493 119.40298507]\n",
      " [ 12.08955224  17.91044776]]\n"
     ]
    }
   ],
   "source": [
    "print(\"Chi-square statistic:\", chi2_stat)\n",
    "print(\"P-value:\", p_value)\n",
    "print(\"Degrees of Freedom:\", dof)\n",
    "print(\"Expected Frequencies:\")\n",
    "print(expected)"
   ]
  },
  {
   "cell_type": "code",
   "execution_count": 9,
   "id": "9b82c315-ec8b-428b-a76f-a5bb3b0fde1d",
   "metadata": {},
   "outputs": [
    {
     "name": "stdout",
     "output_type": "stream",
     "text": [
      "Reject the null hypothesis. There is a significant association between smoking status and lung cancer diagnosis.\n"
     ]
    }
   ],
   "source": [
    "alpha = 0.05\n",
    "if p_value < alpha:\n",
    "    print(\"Reject the null hypothesis. There is a significant association between smoking status and lung cancer diagnosis.\")\n",
    "else:\n",
    "    print(\"Fail to reject the null hypothesis. There is no significant association between smoking status and lung cancer diagnosis.\")"
   ]
  },
  {
   "attachments": {
    "5e0402ed-9b90-4a86-b76a-7c0fc18b87ef.png": {
     "image/png": "[encoded data removed]"
    }
   },
   "cell_type": "markdown",
   "id": "fef8914f-1d04-40d0-9d75-9fdd5fb470a4",
   "metadata": {},
   "source": [
    "### Q10. A study was conducted to determine if the proportion of people who prefer milk chocolate, dark chocolate, or white chocolate is different in the U.S. versus the U.K. A random sample of 500 people from the U.S. and a random sample of 500 people from the U.K. were surveyed. The results are shown in the contingency table below. Conduct a chi-square test for independence to determine if there is a significant association between chocolate preference and country of origin.\n",
    "\n",
    "\n",
    "![image.png](attachment:5e0402ed-9b90-4a86-b76a-7c0fc18b87ef.png)\n",
    "\n",
    "### Use a significance level of 0.01."
   ]
  },
  {
   "cell_type": "code",
   "execution_count": 15,
   "id": "d86f6900-339b-4fc6-af97-51d5b203211e",
   "metadata": {},
   "outputs": [],
   "source": [
    "us_sample = np.array([200, 150, 150])  \n",
    "uk_sample = np.array([225, 175, 100])  \n",
    "\n",
    "contingency_table = np.array([us_sample, uk_sample])\n",
    "\n",
    "chi2_stat, p_value, dof, expected = chi2_contingency(contingency_table)"
   ]
  },
  {
   "cell_type": "code",
   "execution_count": 16,
   "id": "1430d279-8942-4417-87a4-cd206a03fcd3",
   "metadata": {},
   "outputs": [
    {
     "name": "stdout",
     "output_type": "stream",
     "text": [
      "Chi-square statistic: 13.393665158371041\n",
      "P-value: 0.0012348168997745918\n",
      "Degrees of Freedom: 2\n",
      "Expected Frequencies:\n",
      "[[212.5 162.5 125. ]\n",
      " [212.5 162.5 125. ]]\n"
     ]
    }
   ],
   "source": [
    "print(\"Chi-square statistic:\", chi2_stat)\n",
    "print(\"P-value:\", p_value)\n",
    "print(\"Degrees of Freedom:\", dof)\n",
    "print(\"Expected Frequencies:\")\n",
    "print(expected)"
   ]
  },
  {
   "cell_type": "code",
   "execution_count": 17,
   "id": "2d8d627a-603e-4504-93f5-2d31981667e4",
   "metadata": {},
   "outputs": [
    {
     "name": "stdout",
     "output_type": "stream",
     "text": [
      "Reject the null hypothesis. There is a significant association between chocolate preference and country of origin.\n"
     ]
    }
   ],
   "source": [
    "alpha = 0.01\n",
    "if p_value < alpha:\n",
    "    print(\"Reject the null hypothesis. There is a significant association between chocolate preference and country of origin.\")\n",
    "else:\n",
    "    print(\"Fail to reject the null hypothesis. There is no significant association between chocolate preference and country of origin.\")"
   ]
  },
  {
   "cell_type": "markdown",
   "id": "4ca85a43-9b8f-4d8d-af3e-d5a0432d57b4",
   "metadata": {},
   "source": [
    "### Q11. A random sample of 30 people was selected from a population with an unknown mean and standard deviation. The sample mean was found to be 72 and the sample standard deviation was found to be 10. Conduct a hypothesis test to determine if the population mean is significantly different from 70. Use a significance level of 0.05."
   ]
  },
  {
   "cell_type": "code",
   "execution_count": 23,
   "id": "72ac2693-d591-4ee7-8fa3-5df6ce973f68",
   "metadata": {},
   "outputs": [],
   "source": [
    "sample_mean = 72\n",
    "sample_std_dev = 10\n",
    "sample_size = 30\n",
    "population_mean = 70"
   ]
  },
  {
   "cell_type": "code",
   "execution_count": 24,
   "id": "c7ad0c3b-f8b3-4659-a859-554cf7bef452",
   "metadata": {},
   "outputs": [],
   "source": [
    "t_statistic = (sample_mean - population_mean) / (sample_std_dev / (sample_size**0.5))\n",
    "\n",
    "degrees_of_freedom = sample_size - 1\n",
    "\n",
    "alpha = 0.05\n",
    "\n",
    "\n",
    "critical_t_value = stats.t.ppf(1 - alpha/2, degrees_of_freedom)\n",
    "\n",
    "p_value = 2 * (1 - stats.t.cdf(abs(t_statistic), degrees_of_freedom))"
   ]
  },
  {
   "cell_type": "code",
   "execution_count": 25,
   "id": "5548b6f9-2dde-459f-b994-b163a465fa2e",
   "metadata": {},
   "outputs": [
    {
     "ename": "SyntaxError",
     "evalue": "'(' was never closed (819509814.py, line 3)",
     "output_type": "error",
     "traceback": [
      "\u001b[0;36m  Cell \u001b[0;32mIn[25], line 3\u001b[0;36m\u001b[0m\n\u001b[0;31m    print(\"Critical t-value:\", critical_t_value\u001b[0m\n\u001b[0m         ^\u001b[0m\n\u001b[0;31mSyntaxError\u001b[0m\u001b[0;31m:\u001b[0m '(' was never closed\n"
     ]
    }
   ],
   "source": [
    "# Print the results\n",
    "print(\"t-statistic:\", t_statistic)\n",
    "print(\"Critical t-value:\", critical_t_value\n",
    "print(\"P-value:\", p_value)"
   ]
  },
  {
   "cell_type": "code",
   "execution_count": null,
   "id": "d202b8c1-7133-4b9e-bde6-2b4a349588c7",
   "metadata": {},
   "outputs": [],
   "source": []
  }
 ],
 "metadata": {
  "kernelspec": {
   "display_name": "Python 3 (ipykernel)",
   "language": "python",
   "name": "python3"
  },
  "language_info": {
   "codemirror_mode": {
    "name": "ipython",
    "version": 3
   },
   "file_extension": ".py",
   "mimetype": "text/x-python",
   "name": "python",
   "nbconvert_exporter": "python",
   "pygments_lexer": "ipython3",
   "version": "3.10.8"
  }
 },
 "nbformat": 4,
 "nbformat_minor": 5
}
